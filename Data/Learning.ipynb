{
 "cells": [
  {
   "cell_type": "code",
   "execution_count": 1,
   "metadata": {},
   "outputs": [],
   "source": [
    "import numpy as np\n",
    "import pandas as pd\n",
    "from sklearn.linear_model import LinearRegression, Lasso, Ridge\n",
    "from sklearn.preprocessing import StandardScaler, PolynomialFeatures\n",
    "from sklearn.model_selection import cross_validate\n",
    "import re\n",
    "import plotly.graph_objects as go\n",
    "import plotly.express as px\n",
    "from sklearn.preprocessing import OneHotEncoder\n",
    "import re\n",
    "from sklearn.metrics import mean_absolute_error, mean_absolute_percentage_error"
   ]
  },
  {
   "cell_type": "code",
   "execution_count": 2,
   "metadata": {},
   "outputs": [],
   "source": [
    "data = pd.read_csv('processed_df.csv')"
   ]
  },
  {
   "cell_type": "markdown",
   "metadata": {},
   "source": [
    "**ВЫКИНЕМ НАНЫ**"
   ]
  },
  {
   "cell_type": "code",
   "execution_count": 3,
   "metadata": {
    "tags": []
   },
   "outputs": [
    {
     "data": {
      "text/plain": [
       "Maruti                  0\n",
       "Skoda                   0\n",
       "Honda                   0\n",
       "Hyundai                 0\n",
       "Toyota                  0\n",
       "Ford                    0\n",
       "Renault                 0\n",
       "Mahindra                0\n",
       "Tata                    0\n",
       "Chevrolet               0\n",
       "Fiat                    0\n",
       "Datsun                  0\n",
       "Jeep                    0\n",
       "Mercedes-Benz           0\n",
       "Mitsubishi              0\n",
       "Audi                    0\n",
       "Volkswagen              0\n",
       "BMW                     0\n",
       "Nissan                  0\n",
       "Lexus                   0\n",
       "Jaguar                  0\n",
       "Land                    0\n",
       "MG                      0\n",
       "Volvo                   0\n",
       "Daewoo                  0\n",
       "Kia                     0\n",
       "Force                   0\n",
       "Ambassador              0\n",
       "Ashok                   0\n",
       "Isuzu                   0\n",
       "Opel                    0\n",
       "year                    0\n",
       "selling_price           0\n",
       "km_driven               0\n",
       "Diesel                  0\n",
       "Individual              0\n",
       "Dealer                  0\n",
       "Manual                  0\n",
       "First Owner             0\n",
       "Second Owner            0\n",
       "Third Owner             0\n",
       "Fourth & Above Owner    0\n",
       "milage                  0\n",
       "engine                  0\n",
       "max_power               0\n",
       "torque                  0\n",
       "RPM_min                 0\n",
       "seats                   0\n",
       "dtype: int64"
      ]
     },
     "execution_count": 3,
     "metadata": {},
     "output_type": "execute_result"
    }
   ],
   "source": [
    "data_no_nans = data.copy()\n",
    "data_no_nans = data_no_nans.dropna()\n",
    "data_no_nans.isna().sum()"
   ]
  },
  {
   "cell_type": "markdown",
   "metadata": {},
   "source": [
    "**ВЫДЕЛИМ ТРЕНИРОВОЧНЫЕ И ТЕСТОВЫЕ МАССИВЫ**"
   ]
  },
  {
   "cell_type": "code",
   "execution_count": 4,
   "metadata": {},
   "outputs": [],
   "source": [
    "train_data_no_nans = data_no_nans.sample(frac=0.8)\n",
    "test_data_no_nans = data_no_nans.iloc[~data_no_nans.index.isin(train_data_no_nans.index), :]"
   ]
  },
  {
   "cell_type": "code",
   "execution_count": 5,
   "metadata": {},
   "outputs": [],
   "source": [
    "features_train = train_data_no_nans.iloc[:, train_data_no_nans.columns != 'selling_price']\n",
    "responses_train = train_data_no_nans['selling_price'].to_frame(name='selling_price')\n",
    "features_test = test_data_no_nans.iloc[:, test_data_no_nans.columns != 'selling_price']\n",
    "responses_test = test_data_no_nans['selling_price'].to_frame(name='selling_price')"
   ]
  },
  {
   "cell_type": "markdown",
   "metadata": {},
   "source": [
    "**НОРМИРУЕМ ДАННЫЕ**"
   ]
  },
  {
   "cell_type": "code",
   "execution_count": 6,
   "metadata": {},
   "outputs": [],
   "source": [
    "scaller = StandardScaler()\n",
    "x_train = scaller.fit_transform(features_train)\n",
    "y_train = scaller.fit_transform(responses_train)\n",
    "x_test = scaller.fit_transform(features_test)\n",
    "y_test = scaller.fit_transform(responses_test)"
   ]
  },
  {
   "cell_type": "markdown",
   "metadata": {},
   "source": [
    "# **ОБУЧИМ МОДЕЛЬ НА ТЕХ ДАННЫХ, ЧТО ЕСТЬ**"
   ]
  },
  {
   "cell_type": "markdown",
   "metadata": {},
   "source": [
    "**ОБУЧИМ МОДЕЛЬ С ЛИНЕАРИЗАЦИЕЙ КОЭФФИЦИЕНТОВ L1 LASSO**"
   ]
  },
  {
   "cell_type": "code",
   "execution_count": 7,
   "metadata": {},
   "outputs": [
    {
     "data": {
      "text/plain": [
       "0.8480561610118478"
      ]
     },
     "execution_count": 7,
     "metadata": {},
     "output_type": "execute_result"
    }
   ],
   "source": [
    "l1_regr = Lasso(1e-5, max_iter=10 ** 4)\n",
    "l1_regr.fit(x_train, y_train)\n",
    "l1_regr.score(x_train, y_train)"
   ]
  },
  {
   "cell_type": "code",
   "execution_count": 8,
   "metadata": {},
   "outputs": [
    {
     "data": {
      "text/plain": [
       "array([ 4.64033179e-02, -1.31207139e-02, -0.00000000e+00,  7.83571266e-04,\n",
       "        8.33678842e-02, -2.58593835e-03, -1.88444385e-03, -1.77419004e-03,\n",
       "       -4.25857708e-02, -9.39978760e-03, -7.21433909e-03, -1.16560669e-02,\n",
       "        5.21018227e-02,  1.18317607e-01,  1.36033581e-02,  8.64647833e-02,\n",
       "       -2.41312979e-02,  4.09372368e-01, -1.40355668e-03,  2.76104689e-01,\n",
       "        1.59576471e-01,  9.13575616e-02,  8.01006495e-03,  9.82306647e-02,\n",
       "        1.07543533e-02,  1.62576382e-02, -0.00000000e+00,  1.10741249e-02,\n",
       "        0.00000000e+00,  2.18555302e-02,  5.83907312e-03,  2.06462078e-01,\n",
       "       -6.52076298e-02, -1.72339389e-03, -5.21332121e-03,  3.24250549e-02,\n",
       "       -3.57972605e-02, -1.39501425e+00, -1.31926427e+00, -7.21713534e-01,\n",
       "       -4.21392196e-01, -2.02125361e-02,  4.42860949e-02,  2.66154013e-01,\n",
       "        7.18828893e-03, -7.42144902e-02, -1.52735586e-02])"
      ]
     },
     "execution_count": 8,
     "metadata": {},
     "output_type": "execute_result"
    }
   ],
   "source": [
    "l1_regr.coef_"
   ]
  },
  {
   "cell_type": "code",
   "execution_count": 9,
   "metadata": {},
   "outputs": [
    {
     "data": {
      "text/plain": [
       "0.826006352964241"
      ]
     },
     "execution_count": 9,
     "metadata": {},
     "output_type": "execute_result"
    }
   ],
   "source": [
    "l1_regr.score(x_test, y_test)"
   ]
  },
  {
   "cell_type": "markdown",
   "metadata": {},
   "source": [
    "**КАК ВИДНО НА ТЕСТОВОЙ ВЫБОРКЕ РЕЗУЛЬТАТ ДАЖЕ ЛУЧШЕ.**"
   ]
  },
  {
   "cell_type": "markdown",
   "metadata": {},
   "source": [
    "**МФ ПОЛУЧИЛИ РЕЗУЛЬТАТ ПО МЕТРИКЕ R2**"
   ]
  },
  {
   "cell_type": "markdown",
   "metadata": {},
   "source": [
    "**ПОПРОБУЕМ ОЦЕНИТЬ С ПОМОЩЬЮ МЕТРИКИ MAE**"
   ]
  },
  {
   "cell_type": "code",
   "execution_count": 10,
   "metadata": {},
   "outputs": [],
   "source": [
    "y_train_predict = l1_regr.predict(x_train)\n",
    "y_test_predict = l1_regr.predict(x_test)\n",
    "loss_train = mean_absolute_error(y_train, y_train_predict)\n",
    "loss_test = mean_absolute_error(y_test, y_test_predict)"
   ]
  },
  {
   "cell_type": "code",
   "execution_count": 11,
   "metadata": {},
   "outputs": [
    {
     "name": "stdout",
     "output_type": "stream",
     "text": [
      "0.19992348720534817\n",
      "0.22522308484407072\n"
     ]
    }
   ],
   "source": [
    "print(loss_train)\n",
    "print(loss_test)"
   ]
  },
  {
   "cell_type": "markdown",
   "metadata": {},
   "source": [
    "**ПОСМОТРИМ СКОЛЬКО ЭТО В ДЕНЕЖНОМ ЭКВИВАЛЕНТЕ С ПОМОЩЬЮ ИНВЕРСИИ НОРМАЛИЗАЦИИ**"
   ]
  },
  {
   "cell_type": "code",
   "execution_count": 12,
   "metadata": {},
   "outputs": [
    {
     "name": "stdout",
     "output_type": "stream",
     "text": [
      "[[759890.71458156]]\n",
      "[[777582.05645409]]\n"
     ]
    }
   ],
   "source": [
    "print(scaller.inverse_transform([[loss_train]]))\n",
    "print(scaller.inverse_transform([[loss_test]]))"
   ]
  },
  {
   "cell_type": "markdown",
   "metadata": {},
   "source": [
    "**ОЦЕНИМ С ПОМОЩЬЮ МЕТРИКИ MAPE**"
   ]
  },
  {
   "cell_type": "code",
   "execution_count": 13,
   "metadata": {},
   "outputs": [],
   "source": [
    "loss_train_mape = mean_absolute_percentage_error(y_train, y_train_predict)\n",
    "loss_test_mape = mean_absolute_percentage_error(y_test, y_test_predict)"
   ]
  },
  {
   "cell_type": "code",
   "execution_count": 14,
   "metadata": {},
   "outputs": [
    {
     "name": "stdout",
     "output_type": "stream",
     "text": [
      "1.4390470148565642\n",
      "3.1997512701978725\n"
     ]
    }
   ],
   "source": [
    "print(loss_train_mape)\n",
    "print(loss_test_mape)"
   ]
  },
  {
   "cell_type": "markdown",
   "metadata": {},
   "source": [
    "**ОПЯТЬ ЗАМЕЧАЕМ, ЧТО НА ТЕСТОВЫХ ДАННЫХ РЕЗУЛЬТАТ ЛУЧШЕ**"
   ]
  },
  {
   "cell_type": "markdown",
   "metadata": {},
   "source": [
    "# **ДОБАВИМ ПОЛИНОМ 9 СТЕПЕНИ ПО ПРИЗНАКАМ ТИП ТОПЛИВА И ОБЬЕМ ДВИГАТЕЛЯ**"
   ]
  },
  {
   "cell_type": "markdown",
   "metadata": {},
   "source": [
    "**В РЕЗУЛЬТАТЕ АНАЛИЗА ДАННЫХ (ФАЙЛ processing_nes.ipynb) МЫ ВЫЯСНИЛИ, ЧТО ОБЬЕМ ДВИГАТЕЛЯ НАХОДИТСЯ В НЕКОТОРОЙ КОРЕЛЯЦИИ ОТ ТИПА ТОПЛИВА. ПОСТРОИВ ПОЛИНОМИАЛЬНУЮ МОДЕЛЬ, ОБУЧИВ ЕЕ И ПОСЧИТАВ ПОТЕРИ С КРОСС ВАЛИДАЦИЕЙ МЫ ПОНЯЛИ, ЧТО ДЛЯ ДВУХ ЭТИХ ДВУХ ПРИЗНАКОВ С ПОЛИНОМОМ СТЕПЕНЬЮ 9 (ФАЙЛ analyse.ipynb) МЫ МОЖЕМ УЛУЧШИТЬ МОДЕЛЬ. ПОПРОБУЕМ ЕЕ УЛУЧШИТЬ ДОБАВИВ ЭТИ ПРИЗНАКИ**"
   ]
  },
  {
   "cell_type": "markdown",
   "metadata": {},
   "source": [
    "**ВОЗЬМЕМ ФРЕЙМ БЕЗ НАНОВ И СКАЛЯРИЗУЕМ**"
   ]
  },
  {
   "cell_type": "code",
   "execution_count": 15,
   "metadata": {},
   "outputs": [],
   "source": [
    "scaller_poly = StandardScaler()\n",
    "x_poly = scaller_poly.fit_transform(data_no_nans[data_no_nans.columns.drop('selling_price')])\n",
    "y_poly = scaller_poly.fit_transform(data_no_nans[['selling_price']])"
   ]
  },
  {
   "cell_type": "code",
   "execution_count": 16,
   "metadata": {},
   "outputs": [
    {
     "data": {
      "text/html": [
       "<div>\n",
       "<style scoped>\n",
       "    .dataframe tbody tr th:only-of-type {\n",
       "        vertical-align: middle;\n",
       "    }\n",
       "\n",
       "    .dataframe tbody tr th {\n",
       "        vertical-align: top;\n",
       "    }\n",
       "\n",
       "    .dataframe thead th {\n",
       "        text-align: right;\n",
       "    }\n",
       "</style>\n",
       "<table border=\"1\" class=\"dataframe\">\n",
       "  <thead>\n",
       "    <tr style=\"text-align: right;\">\n",
       "      <th></th>\n",
       "      <th>selling_price</th>\n",
       "      <th>Maruti</th>\n",
       "      <th>Skoda</th>\n",
       "      <th>Honda</th>\n",
       "      <th>Hyundai</th>\n",
       "      <th>Toyota</th>\n",
       "      <th>Ford</th>\n",
       "      <th>Renault</th>\n",
       "      <th>Mahindra</th>\n",
       "      <th>Tata</th>\n",
       "      <th>...</th>\n",
       "      <th>First Owner</th>\n",
       "      <th>Second Owner</th>\n",
       "      <th>Third Owner</th>\n",
       "      <th>Fourth &amp; Above Owner</th>\n",
       "      <th>milage</th>\n",
       "      <th>engine</th>\n",
       "      <th>max_power</th>\n",
       "      <th>torque</th>\n",
       "      <th>RPM_min</th>\n",
       "      <th>seats</th>\n",
       "    </tr>\n",
       "  </thead>\n",
       "  <tbody>\n",
       "    <tr>\n",
       "      <th>0</th>\n",
       "      <td>-0.237694</td>\n",
       "      <td>1.535349</td>\n",
       "      <td>-0.115902</td>\n",
       "      <td>-0.251284</td>\n",
       "      <td>-0.454241</td>\n",
       "      <td>-0.253854</td>\n",
       "      <td>-0.228089</td>\n",
       "      <td>-0.173</td>\n",
       "      <td>-0.327019</td>\n",
       "      <td>-0.317865</td>\n",
       "      <td>...</td>\n",
       "      <td>0.721895</td>\n",
       "      <td>-0.587260</td>\n",
       "      <td>-0.263667</td>\n",
       "      <td>-0.144741</td>\n",
       "      <td>1.021040</td>\n",
       "      <td>-0.418993</td>\n",
       "      <td>-0.495635</td>\n",
       "      <td>0.081953</td>\n",
       "      <td>-0.617447</td>\n",
       "      <td>-0.436655</td>\n",
       "    </tr>\n",
       "    <tr>\n",
       "      <th>1</th>\n",
       "      <td>-0.339271</td>\n",
       "      <td>-0.651318</td>\n",
       "      <td>8.627996</td>\n",
       "      <td>-0.251284</td>\n",
       "      <td>-0.454241</td>\n",
       "      <td>-0.253854</td>\n",
       "      <td>-0.228089</td>\n",
       "      <td>-0.173</td>\n",
       "      <td>-0.327019</td>\n",
       "      <td>-0.317865</td>\n",
       "      <td>...</td>\n",
       "      <td>-1.385243</td>\n",
       "      <td>1.702822</td>\n",
       "      <td>-0.263667</td>\n",
       "      <td>-0.144741</td>\n",
       "      <td>0.440338</td>\n",
       "      <td>0.077846</td>\n",
       "      <td>0.345081</td>\n",
       "      <td>0.601426</td>\n",
       "      <td>-1.065356</td>\n",
       "      <td>-0.436655</td>\n",
       "    </tr>\n",
       "    <tr>\n",
       "      <th>2</th>\n",
       "      <td>-0.608449</td>\n",
       "      <td>-0.651318</td>\n",
       "      <td>-0.115902</td>\n",
       "      <td>3.979562</td>\n",
       "      <td>-0.454241</td>\n",
       "      <td>-0.253854</td>\n",
       "      <td>-0.228089</td>\n",
       "      <td>-0.173</td>\n",
       "      <td>-0.327019</td>\n",
       "      <td>-0.317865</td>\n",
       "      <td>...</td>\n",
       "      <td>-1.385243</td>\n",
       "      <td>-0.587260</td>\n",
       "      <td>3.792666</td>\n",
       "      <td>-0.144741</td>\n",
       "      <td>-0.443564</td>\n",
       "      <td>0.075858</td>\n",
       "      <td>-0.381717</td>\n",
       "      <td>-0.485485</td>\n",
       "      <td>0.009625</td>\n",
       "      <td>-0.436655</td>\n",
       "    </tr>\n",
       "    <tr>\n",
       "      <th>3</th>\n",
       "      <td>-0.523379</td>\n",
       "      <td>-0.651318</td>\n",
       "      <td>-0.115902</td>\n",
       "      <td>-0.251284</td>\n",
       "      <td>2.201476</td>\n",
       "      <td>-0.253854</td>\n",
       "      <td>-0.228089</td>\n",
       "      <td>-0.173</td>\n",
       "      <td>-0.327019</td>\n",
       "      <td>-0.317865</td>\n",
       "      <td>...</td>\n",
       "      <td>0.721895</td>\n",
       "      <td>-0.587260</td>\n",
       "      <td>-0.263667</td>\n",
       "      <td>-0.144741</td>\n",
       "      <td>0.918261</td>\n",
       "      <td>-0.124865</td>\n",
       "      <td>-0.039962</td>\n",
       "      <td>0.337534</td>\n",
       "      <td>-0.841402</td>\n",
       "      <td>-0.436655</td>\n",
       "    </tr>\n",
       "    <tr>\n",
       "      <th>4</th>\n",
       "      <td>-0.644001</td>\n",
       "      <td>1.535349</td>\n",
       "      <td>-0.115902</td>\n",
       "      <td>-0.251284</td>\n",
       "      <td>-0.454241</td>\n",
       "      <td>-0.253854</td>\n",
       "      <td>-0.228089</td>\n",
       "      <td>-0.173</td>\n",
       "      <td>-0.327019</td>\n",
       "      <td>-0.317865</td>\n",
       "      <td>...</td>\n",
       "      <td>0.721895</td>\n",
       "      <td>-0.587260</td>\n",
       "      <td>-0.263667</td>\n",
       "      <td>-0.144741</td>\n",
       "      <td>-0.854681</td>\n",
       "      <td>-0.319626</td>\n",
       "      <td>-0.091225</td>\n",
       "      <td>-0.587301</td>\n",
       "      <td>1.622096</td>\n",
       "      <td>-0.436655</td>\n",
       "    </tr>\n",
       "    <tr>\n",
       "      <th>...</th>\n",
       "      <td>...</td>\n",
       "      <td>...</td>\n",
       "      <td>...</td>\n",
       "      <td>...</td>\n",
       "      <td>...</td>\n",
       "      <td>...</td>\n",
       "      <td>...</td>\n",
       "      <td>...</td>\n",
       "      <td>...</td>\n",
       "      <td>...</td>\n",
       "      <td>...</td>\n",
       "      <td>...</td>\n",
       "      <td>...</td>\n",
       "      <td>...</td>\n",
       "      <td>...</td>\n",
       "      <td>...</td>\n",
       "      <td>...</td>\n",
       "      <td>...</td>\n",
       "      <td>...</td>\n",
       "      <td>...</td>\n",
       "      <td>...</td>\n",
       "    </tr>\n",
       "    <tr>\n",
       "      <th>7841</th>\n",
       "      <td>-0.402756</td>\n",
       "      <td>-0.651318</td>\n",
       "      <td>-0.115902</td>\n",
       "      <td>-0.251284</td>\n",
       "      <td>2.201476</td>\n",
       "      <td>-0.253854</td>\n",
       "      <td>-0.228089</td>\n",
       "      <td>-0.173</td>\n",
       "      <td>-0.327019</td>\n",
       "      <td>-0.317865</td>\n",
       "      <td>...</td>\n",
       "      <td>0.721895</td>\n",
       "      <td>-0.587260</td>\n",
       "      <td>-0.263667</td>\n",
       "      <td>-0.144741</td>\n",
       "      <td>-0.238005</td>\n",
       "      <td>-0.520348</td>\n",
       "      <td>-0.243591</td>\n",
       "      <td>-0.578644</td>\n",
       "      <td>1.174187</td>\n",
       "      <td>-0.436655</td>\n",
       "    </tr>\n",
       "    <tr>\n",
       "      <th>7842</th>\n",
       "      <td>-0.637652</td>\n",
       "      <td>-0.651318</td>\n",
       "      <td>-0.115902</td>\n",
       "      <td>-0.251284</td>\n",
       "      <td>2.201476</td>\n",
       "      <td>-0.253854</td>\n",
       "      <td>-0.228089</td>\n",
       "      <td>-0.173</td>\n",
       "      <td>-0.327019</td>\n",
       "      <td>-0.317865</td>\n",
       "      <td>...</td>\n",
       "      <td>-1.385243</td>\n",
       "      <td>-0.587260</td>\n",
       "      <td>-0.263667</td>\n",
       "      <td>6.908901</td>\n",
       "      <td>-0.674817</td>\n",
       "      <td>0.067909</td>\n",
       "      <td>0.529629</td>\n",
       "      <td>0.473289</td>\n",
       "      <td>-0.707029</td>\n",
       "      <td>-0.436655</td>\n",
       "    </tr>\n",
       "    <tr>\n",
       "      <th>7843</th>\n",
       "      <td>-0.324034</td>\n",
       "      <td>1.535349</td>\n",
       "      <td>-0.115902</td>\n",
       "      <td>-0.251284</td>\n",
       "      <td>-0.454241</td>\n",
       "      <td>-0.253854</td>\n",
       "      <td>-0.228089</td>\n",
       "      <td>-0.173</td>\n",
       "      <td>-0.327019</td>\n",
       "      <td>-0.317865</td>\n",
       "      <td>...</td>\n",
       "      <td>0.721895</td>\n",
       "      <td>-0.587260</td>\n",
       "      <td>-0.263667</td>\n",
       "      <td>-0.144741</td>\n",
       "      <td>-0.032447</td>\n",
       "      <td>-0.418993</td>\n",
       "      <td>-0.498483</td>\n",
       "      <td>0.081953</td>\n",
       "      <td>-0.617447</td>\n",
       "      <td>-0.436655</td>\n",
       "    </tr>\n",
       "    <tr>\n",
       "      <th>7844</th>\n",
       "      <td>-0.440848</td>\n",
       "      <td>-0.651318</td>\n",
       "      <td>-0.115902</td>\n",
       "      <td>-0.251284</td>\n",
       "      <td>-0.454241</td>\n",
       "      <td>-0.253854</td>\n",
       "      <td>-0.228089</td>\n",
       "      <td>-0.173</td>\n",
       "      <td>-0.327019</td>\n",
       "      <td>3.145985</td>\n",
       "      <td>...</td>\n",
       "      <td>0.721895</td>\n",
       "      <td>-0.587260</td>\n",
       "      <td>-0.263667</td>\n",
       "      <td>-0.144741</td>\n",
       "      <td>1.064721</td>\n",
       "      <td>-0.124865</td>\n",
       "      <td>-0.609553</td>\n",
       "      <td>-0.350941</td>\n",
       "      <td>-0.796611</td>\n",
       "      <td>-0.436655</td>\n",
       "    </tr>\n",
       "    <tr>\n",
       "      <th>7845</th>\n",
       "      <td>-0.440848</td>\n",
       "      <td>-0.651318</td>\n",
       "      <td>-0.115902</td>\n",
       "      <td>-0.251284</td>\n",
       "      <td>-0.454241</td>\n",
       "      <td>-0.253854</td>\n",
       "      <td>-0.228089</td>\n",
       "      <td>-0.173</td>\n",
       "      <td>-0.327019</td>\n",
       "      <td>3.145985</td>\n",
       "      <td>...</td>\n",
       "      <td>0.721895</td>\n",
       "      <td>-0.587260</td>\n",
       "      <td>-0.263667</td>\n",
       "      <td>-0.144741</td>\n",
       "      <td>1.064721</td>\n",
       "      <td>-0.124865</td>\n",
       "      <td>-0.609553</td>\n",
       "      <td>-0.350941</td>\n",
       "      <td>-0.796611</td>\n",
       "      <td>-0.436655</td>\n",
       "    </tr>\n",
       "  </tbody>\n",
       "</table>\n",
       "<p>7846 rows × 48 columns</p>\n",
       "</div>"
      ],
      "text/plain": [
       "      selling_price    Maruti     Skoda     Honda   Hyundai    Toyota  \\\n",
       "0         -0.237694  1.535349 -0.115902 -0.251284 -0.454241 -0.253854   \n",
       "1         -0.339271 -0.651318  8.627996 -0.251284 -0.454241 -0.253854   \n",
       "2         -0.608449 -0.651318 -0.115902  3.979562 -0.454241 -0.253854   \n",
       "3         -0.523379 -0.651318 -0.115902 -0.251284  2.201476 -0.253854   \n",
       "4         -0.644001  1.535349 -0.115902 -0.251284 -0.454241 -0.253854   \n",
       "...             ...       ...       ...       ...       ...       ...   \n",
       "7841      -0.402756 -0.651318 -0.115902 -0.251284  2.201476 -0.253854   \n",
       "7842      -0.637652 -0.651318 -0.115902 -0.251284  2.201476 -0.253854   \n",
       "7843      -0.324034  1.535349 -0.115902 -0.251284 -0.454241 -0.253854   \n",
       "7844      -0.440848 -0.651318 -0.115902 -0.251284 -0.454241 -0.253854   \n",
       "7845      -0.440848 -0.651318 -0.115902 -0.251284 -0.454241 -0.253854   \n",
       "\n",
       "          Ford  Renault  Mahindra      Tata  ...  First Owner  Second Owner  \\\n",
       "0    -0.228089   -0.173 -0.327019 -0.317865  ...     0.721895     -0.587260   \n",
       "1    -0.228089   -0.173 -0.327019 -0.317865  ...    -1.385243      1.702822   \n",
       "2    -0.228089   -0.173 -0.327019 -0.317865  ...    -1.385243     -0.587260   \n",
       "3    -0.228089   -0.173 -0.327019 -0.317865  ...     0.721895     -0.587260   \n",
       "4    -0.228089   -0.173 -0.327019 -0.317865  ...     0.721895     -0.587260   \n",
       "...        ...      ...       ...       ...  ...          ...           ...   \n",
       "7841 -0.228089   -0.173 -0.327019 -0.317865  ...     0.721895     -0.587260   \n",
       "7842 -0.228089   -0.173 -0.327019 -0.317865  ...    -1.385243     -0.587260   \n",
       "7843 -0.228089   -0.173 -0.327019 -0.317865  ...     0.721895     -0.587260   \n",
       "7844 -0.228089   -0.173 -0.327019  3.145985  ...     0.721895     -0.587260   \n",
       "7845 -0.228089   -0.173 -0.327019  3.145985  ...     0.721895     -0.587260   \n",
       "\n",
       "      Third Owner  Fourth & Above Owner    milage    engine  max_power  \\\n",
       "0       -0.263667             -0.144741  1.021040 -0.418993  -0.495635   \n",
       "1       -0.263667             -0.144741  0.440338  0.077846   0.345081   \n",
       "2        3.792666             -0.144741 -0.443564  0.075858  -0.381717   \n",
       "3       -0.263667             -0.144741  0.918261 -0.124865  -0.039962   \n",
       "4       -0.263667             -0.144741 -0.854681 -0.319626  -0.091225   \n",
       "...           ...                   ...       ...       ...        ...   \n",
       "7841    -0.263667             -0.144741 -0.238005 -0.520348  -0.243591   \n",
       "7842    -0.263667              6.908901 -0.674817  0.067909   0.529629   \n",
       "7843    -0.263667             -0.144741 -0.032447 -0.418993  -0.498483   \n",
       "7844    -0.263667             -0.144741  1.064721 -0.124865  -0.609553   \n",
       "7845    -0.263667             -0.144741  1.064721 -0.124865  -0.609553   \n",
       "\n",
       "        torque   RPM_min     seats  \n",
       "0     0.081953 -0.617447 -0.436655  \n",
       "1     0.601426 -1.065356 -0.436655  \n",
       "2    -0.485485  0.009625 -0.436655  \n",
       "3     0.337534 -0.841402 -0.436655  \n",
       "4    -0.587301  1.622096 -0.436655  \n",
       "...        ...       ...       ...  \n",
       "7841 -0.578644  1.174187 -0.436655  \n",
       "7842  0.473289 -0.707029 -0.436655  \n",
       "7843  0.081953 -0.617447 -0.436655  \n",
       "7844 -0.350941 -0.796611 -0.436655  \n",
       "7845 -0.350941 -0.796611 -0.436655  \n",
       "\n",
       "[7846 rows x 48 columns]"
      ]
     },
     "execution_count": 16,
     "metadata": {},
     "output_type": "execute_result"
    }
   ],
   "source": [
    "scaled_df = pd.DataFrame(data=np.hstack((y_poly, x_poly)), columns=['selling_price'] + list(data_no_nans.columns.drop('selling_price')))\n",
    "scaled_df"
   ]
  },
  {
   "cell_type": "markdown",
   "metadata": {},
   "source": [
    "**СОЗДАДИМ ПОЛИНОМ 9Й СТЕПЕНИ ДЛЯ ДВИГАТЕЛЯ И ДИЗЕЛЯ**"
   ]
  },
  {
   "cell_type": "code",
   "execution_count": 17,
   "metadata": {},
   "outputs": [
    {
     "data": {
      "text/plain": [
       "(7846, 36)"
      ]
     },
     "execution_count": 17,
     "metadata": {},
     "output_type": "execute_result"
    }
   ],
   "source": [
    "poly_obj = PolynomialFeatures(7)\n",
    "engine_diesel_poly = poly_obj.fit_transform(scaled_df[['Diesel', 'engine']])\n",
    "engine_diesel_poly.shape"
   ]
  },
  {
   "cell_type": "markdown",
   "metadata": {},
   "source": [
    "**УБЕРЕМ ПЕРВЫЕ ТРИ СТОЛБЦА, ПЕРВЫЙ ПОТОМУ ЧТО ЕДИНИЧНЫЙ ДЛЯ СВОБОНОГО ВЕСА, ВТОРЫЕ ДВА ПОТОМУ ЧТО ПОВТОРЕНИЕ ТЕХ, ЧТО УЖЕ ЕСТЬ В ДАТАСЕТЕ, ЗАПИШЕМ ВО ФРЕЙМ**"
   ]
  },
  {
   "cell_type": "code",
   "execution_count": 18,
   "metadata": {},
   "outputs": [],
   "source": [
    "engine_diesel_poly_df = pd.DataFrame(data=engine_diesel_poly[:, 3:], columns=[f'Dies*Engine{i + 1}' for i in range(engine_diesel_poly.shape[1] - 3)])"
   ]
  },
  {
   "cell_type": "markdown",
   "metadata": {},
   "source": [
    "**СОБЕРЕМ ПОЛИНОМ С ДАТАСЕТОМ**"
   ]
  },
  {
   "cell_type": "code",
   "execution_count": 19,
   "metadata": {},
   "outputs": [],
   "source": [
    "poly_prepared = pd.concat([scaled_df, engine_diesel_poly_df], axis=1)"
   ]
  },
  {
   "cell_type": "markdown",
   "metadata": {},
   "source": [
    "**РАЗДЕЛИМ ВЕСЬ СКАЛЯРИЗОВАННЫЙ ДАТАСЕТ НА ТРЕНИРОВОЧНЫЙ И ТЕСТОВЫЙ**"
   ]
  },
  {
   "cell_type": "code",
   "execution_count": 20,
   "metadata": {},
   "outputs": [],
   "source": [
    "poly_prepared_train = poly_prepared.sample(frac=0.8, random_state=0).sort_index()\n",
    "poly_prepared_test = poly_prepared.iloc[~scaled_df.index.isin(poly_prepared_train.index)].sort_index()"
   ]
  },
  {
   "cell_type": "markdown",
   "metadata": {},
   "source": [
    "**НАЧНЕМ ОБУЧАТЬ МОДЕЛЬ С L1/L2 НА ТРЕНИРОВОЧНОМ ДАТАСЕТЕ**"
   ]
  },
  {
   "cell_type": "code",
   "execution_count": 21,
   "metadata": {},
   "outputs": [
    {
     "data": {
      "text/html": [
       "<style>#sk-container-id-1 {color: black;background-color: white;}#sk-container-id-1 pre{padding: 0;}#sk-container-id-1 div.sk-toggleable {background-color: white;}#sk-container-id-1 label.sk-toggleable__label {cursor: pointer;display: block;width: 100%;margin-bottom: 0;padding: 0.3em;box-sizing: border-box;text-align: center;}#sk-container-id-1 label.sk-toggleable__label-arrow:before {content: \"▸\";float: left;margin-right: 0.25em;color: #696969;}#sk-container-id-1 label.sk-toggleable__label-arrow:hover:before {color: black;}#sk-container-id-1 div.sk-estimator:hover label.sk-toggleable__label-arrow:before {color: black;}#sk-container-id-1 div.sk-toggleable__content {max-height: 0;max-width: 0;overflow: hidden;text-align: left;background-color: #f0f8ff;}#sk-container-id-1 div.sk-toggleable__content pre {margin: 0.2em;color: black;border-radius: 0.25em;background-color: #f0f8ff;}#sk-container-id-1 input.sk-toggleable__control:checked~div.sk-toggleable__content {max-height: 200px;max-width: 100%;overflow: auto;}#sk-container-id-1 input.sk-toggleable__control:checked~label.sk-toggleable__label-arrow:before {content: \"▾\";}#sk-container-id-1 div.sk-estimator input.sk-toggleable__control:checked~label.sk-toggleable__label {background-color: #d4ebff;}#sk-container-id-1 div.sk-label input.sk-toggleable__control:checked~label.sk-toggleable__label {background-color: #d4ebff;}#sk-container-id-1 input.sk-hidden--visually {border: 0;clip: rect(1px 1px 1px 1px);clip: rect(1px, 1px, 1px, 1px);height: 1px;margin: -1px;overflow: hidden;padding: 0;position: absolute;width: 1px;}#sk-container-id-1 div.sk-estimator {font-family: monospace;background-color: #f0f8ff;border: 1px dotted black;border-radius: 0.25em;box-sizing: border-box;margin-bottom: 0.5em;}#sk-container-id-1 div.sk-estimator:hover {background-color: #d4ebff;}#sk-container-id-1 div.sk-parallel-item::after {content: \"\";width: 100%;border-bottom: 1px solid gray;flex-grow: 1;}#sk-container-id-1 div.sk-label:hover label.sk-toggleable__label {background-color: #d4ebff;}#sk-container-id-1 div.sk-serial::before {content: \"\";position: absolute;border-left: 1px solid gray;box-sizing: border-box;top: 0;bottom: 0;left: 50%;z-index: 0;}#sk-container-id-1 div.sk-serial {display: flex;flex-direction: column;align-items: center;background-color: white;padding-right: 0.2em;padding-left: 0.2em;position: relative;}#sk-container-id-1 div.sk-item {position: relative;z-index: 1;}#sk-container-id-1 div.sk-parallel {display: flex;align-items: stretch;justify-content: center;background-color: white;position: relative;}#sk-container-id-1 div.sk-item::before, #sk-container-id-1 div.sk-parallel-item::before {content: \"\";position: absolute;border-left: 1px solid gray;box-sizing: border-box;top: 0;bottom: 0;left: 50%;z-index: -1;}#sk-container-id-1 div.sk-parallel-item {display: flex;flex-direction: column;z-index: 1;position: relative;background-color: white;}#sk-container-id-1 div.sk-parallel-item:first-child::after {align-self: flex-end;width: 50%;}#sk-container-id-1 div.sk-parallel-item:last-child::after {align-self: flex-start;width: 50%;}#sk-container-id-1 div.sk-parallel-item:only-child::after {width: 0;}#sk-container-id-1 div.sk-dashed-wrapped {border: 1px dashed gray;margin: 0 0.4em 0.5em 0.4em;box-sizing: border-box;padding-bottom: 0.4em;background-color: white;}#sk-container-id-1 div.sk-label label {font-family: monospace;font-weight: bold;display: inline-block;line-height: 1.2em;}#sk-container-id-1 div.sk-label-container {text-align: center;}#sk-container-id-1 div.sk-container {/* jupyter's `normalize.less` sets `[hidden] { display: none; }` but bootstrap.min.css set `[hidden] { display: none !important; }` so we also need the `!important` here to be able to override the default hidden behavior on the sphinx rendered scikit-learn.org. See: https://github.com/scikit-learn/scikit-learn/issues/21755 */display: inline-block !important;position: relative;}#sk-container-id-1 div.sk-text-repr-fallback {display: none;}</style><div id=\"sk-container-id-1\" class=\"sk-top-container\"><div class=\"sk-text-repr-fallback\"><pre>Ridge(alpha=0.0001, max_iter=10000)</pre><b>In a Jupyter environment, please rerun this cell to show the HTML representation or trust the notebook. <br />On GitHub, the HTML representation is unable to render, please try loading this page with nbviewer.org.</b></div><div class=\"sk-container\" hidden><div class=\"sk-item\"><div class=\"sk-estimator sk-toggleable\"><input class=\"sk-toggleable__control sk-hidden--visually\" id=\"sk-estimator-id-1\" type=\"checkbox\" checked><label for=\"sk-estimator-id-1\" class=\"sk-toggleable__label sk-toggleable__label-arrow\">Ridge</label><div class=\"sk-toggleable__content\"><pre>Ridge(alpha=0.0001, max_iter=10000)</pre></div></div></div></div></div>"
      ],
      "text/plain": [
       "Ridge(alpha=0.0001, max_iter=10000)"
      ]
     },
     "execution_count": 21,
     "metadata": {},
     "output_type": "execute_result"
    }
   ],
   "source": [
    "regr_poly = Ridge(alpha=0.0001, max_iter=10 ** 4)\n",
    "regr_poly.fit(poly_prepared_train.iloc[:, 1:], poly_prepared_train.iloc[:, 0])"
   ]
  },
  {
   "cell_type": "code",
   "execution_count": 22,
   "metadata": {},
   "outputs": [
    {
     "data": {
      "text/plain": [
       "array([-3.00308581e-02, -1.62869805e-02, -2.96341668e-02, -5.88115790e-02,\n",
       "        4.09414711e-02, -3.73786131e-02, -3.49581162e-02, -3.83135220e-02,\n",
       "       -8.24890993e-02, -3.86350279e-02, -1.99116696e-02, -2.61835045e-02,\n",
       "        1.87878226e-02,  1.12371785e-01,  6.35399695e-03,  7.41730940e-02,\n",
       "       -4.30919712e-02,  3.75621764e-01, -1.95223473e-02,  2.51302721e-01,\n",
       "        1.58270994e-01,  7.35342577e-02,  7.21302824e-03,  9.83840899e-02,\n",
       "        6.19669856e-03,  1.26722834e-02, -4.20176035e-03,  1.31691887e-02,\n",
       "       -5.71538763e-26,  1.90424539e-02,  5.35868878e-03,  2.16902115e-01,\n",
       "       -6.62337239e-02,  8.04581839e-03,  2.11065266e-03,  3.89263889e-02,\n",
       "       -2.99964823e-02, -1.51070685e+00, -1.42565536e+00, -7.93000524e-01,\n",
       "       -4.53319964e-01, -3.45916523e-02, -2.36121294e-02,  3.29962334e-01,\n",
       "        1.24054469e-02, -5.93339283e-02, -6.78569903e-03, -1.60352845e-03,\n",
       "        1.71104783e-03, -6.35148975e-02,  8.36540942e-03, -2.39532838e-02,\n",
       "        5.43219211e-04, -2.28066503e-02, -3.27075367e-03,  6.48487007e-03,\n",
       "       -6.36227486e-02, -3.07022316e-02,  9.40373132e-02,  9.01726482e-03,\n",
       "       -2.52455665e-02,  1.32226820e-02, -1.66880770e-02, -1.12116319e-02,\n",
       "        1.03755149e-02, -5.06787804e-03,  1.15162126e-02, -6.62587271e-02,\n",
       "       -2.73779443e-02,  9.62706987e-02,  2.91761440e-02, -5.02074647e-02,\n",
       "        1.00272429e-02, -2.75407596e-02,  2.64279646e-02, -1.12302748e-02,\n",
       "       -3.03926310e-02,  4.61024018e-03, -1.27245010e-03,  9.21018617e-03])"
      ]
     },
     "execution_count": 22,
     "metadata": {},
     "output_type": "execute_result"
    }
   ],
   "source": [
    "regr_poly.coef_"
   ]
  },
  {
   "cell_type": "markdown",
   "metadata": {},
   "source": [
    "**ОЦЕНИМ ПОТЕРИ ПО МЕТРИКЕ MAE**"
   ]
  },
  {
   "cell_type": "code",
   "execution_count": 23,
   "metadata": {},
   "outputs": [],
   "source": [
    "y_train_predict = regr_poly.predict(poly_prepared_train.iloc[:, 1:])\n",
    "y_test_predict = regr_poly.predict(poly_prepared_test.iloc[:, 1:])\n",
    "loss_train = mean_absolute_error(poly_prepared_train.iloc[:, 0], y_train_predict)\n",
    "loss_test = mean_absolute_error(poly_prepared_test.iloc[:, 0], y_test_predict)"
   ]
  },
  {
   "cell_type": "code",
   "execution_count": 24,
   "metadata": {},
   "outputs": [
    {
     "name": "stdout",
     "output_type": "stream",
     "text": [
      "0.19468645364990594\n",
      "0.19743002855917136\n"
     ]
    }
   ],
   "source": [
    "print(loss_train)\n",
    "print(loss_test)"
   ]
  },
  {
   "cell_type": "code",
   "execution_count": 25,
   "metadata": {},
   "outputs": [
    {
     "name": "stdout",
     "output_type": "stream",
     "text": [
      "[[790535.29823111]]\n",
      "[[792696.08909151]]\n"
     ]
    }
   ],
   "source": [
    "print(scaller_poly.inverse_transform([[loss_train]]))\n",
    "print(scaller_poly.inverse_transform([[loss_test]]))"
   ]
  },
  {
   "cell_type": "markdown",
   "metadata": {},
   "source": [
    "**ОЦЕНИМ ПОТЕРИ ПО МЕТРИКЕ MAPE**"
   ]
  },
  {
   "cell_type": "code",
   "execution_count": 26,
   "metadata": {},
   "outputs": [
    {
     "name": "stdout",
     "output_type": "stream",
     "text": [
      "1.1750114299191143\n",
      "1.3181118370749954\n"
     ]
    }
   ],
   "source": [
    "loss_train_mape = mean_absolute_percentage_error(poly_prepared_train.iloc[:, 0], y_train_predict)\n",
    "loss_test_mape = mean_absolute_percentage_error(poly_prepared_test.iloc[:, 0], y_test_predict)\n",
    "print(loss_train_mape)\n",
    "print(loss_test_mape)"
   ]
  },
  {
   "cell_type": "markdown",
   "metadata": {},
   "source": [
    "**КАК ВИДНО РЕЗУЛЬТАТЫ ЧУУУУУУУТЬ ЧУТЬ УЛУЧШИЛИСЬ, ПОПРОБУЕМ ЕЩЕ УЛУЧШИТЬ МОДЕЛЬ**"
   ]
  },
  {
   "cell_type": "markdown",
   "metadata": {},
   "source": [
    "# **МОЩНОСТЬ, ТИП ДВИГАТЕЛЯ И КРУТЯЩИЙ МОМЕНТ**"
   ]
  },
  {
   "cell_type": "code",
   "execution_count": 27,
   "metadata": {},
   "outputs": [],
   "source": [
    "data = pd.read_csv('processed_df.csv')\n",
    "data = data.dropna()"
   ]
  },
  {
   "cell_type": "markdown",
   "metadata": {},
   "source": [
    "**ВИДЕЛИМ ПРИЗНАКИ И ОТКЛИКИ**"
   ]
  },
  {
   "cell_type": "code",
   "execution_count": 28,
   "metadata": {},
   "outputs": [],
   "source": [
    "x = data.loc[:, data.columns != 'selling_price']\n",
    "y = data[['selling_price']]"
   ]
  },
  {
   "cell_type": "markdown",
   "metadata": {},
   "source": [
    "**СКАЛЯРИЗУЕМ ПРИЗНАКИ И ОТКЛИКИ**"
   ]
  },
  {
   "cell_type": "code",
   "execution_count": 29,
   "metadata": {},
   "outputs": [],
   "source": [
    "scall = StandardScaler()\n",
    "x_scld = scall.fit_transform(x)\n",
    "y_scld = scall.fit_transform(y)"
   ]
  },
  {
   "cell_type": "code",
   "execution_count": 30,
   "metadata": {},
   "outputs": [],
   "source": [
    "features_df = pd.DataFrame(data=x_scld, columns=x.columns)"
   ]
  },
  {
   "cell_type": "markdown",
   "metadata": {},
   "source": [
    "**СОЗДАДИМ ПОЛИНОМ 3Й СТЕПЕНИ ПО ТИПУ ТОПЛИВА, МОЩНОСТИ И КРУТЯЩЕМУ МОМЕНТУ**"
   ]
  },
  {
   "cell_type": "code",
   "execution_count": 31,
   "metadata": {},
   "outputs": [],
   "source": [
    "poly3 = PolynomialFeatures(3)\n",
    "x_poly = poly3.fit_transform(features_df.loc[:, ['Diesel', 'max_power', 'torque']])[:, 4:]"
   ]
  },
  {
   "cell_type": "markdown",
   "metadata": {},
   "source": [
    "**СОЗДАДИМ ОБЩИЙ ФРЕЙМ ПРИЗНАКОВ**"
   ]
  },
  {
   "cell_type": "code",
   "execution_count": 32,
   "metadata": {},
   "outputs": [],
   "source": [
    "poly_df = pd.DataFrame(data=x_poly, columns=[f'Dies*Pow*Tor{i + 1}' for i in range(x_poly.shape[1])])\n",
    "resp_df = pd.DataFrame(data=y_scld, columns=['selling_price'])"
   ]
  },
  {
   "cell_type": "code",
   "execution_count": 33,
   "metadata": {},
   "outputs": [],
   "source": [
    "poly_df = pd.concat([resp_df, features_df, poly_df], axis=1)"
   ]
  },
  {
   "cell_type": "markdown",
   "metadata": {},
   "source": [
    "**ВЫДЕЛИМ ТРЕНИРОВОЧНЫЙ И ТЕСТОВЫЙ ДАТАСЕТЫ**"
   ]
  },
  {
   "cell_type": "code",
   "execution_count": 34,
   "metadata": {},
   "outputs": [],
   "source": [
    "train = poly_df.sample(frac=0.8, random_state=0)\n",
    "test = poly_df.iloc[~poly_df.index.isin(train.index), :]"
   ]
  },
  {
   "cell_type": "markdown",
   "metadata": {},
   "source": [
    "**ПОПРОБУЕМ ОБУЧИТЬ МОДЕЛЬ С L1 И ПОСМОТРИМ НА РЕЗУЛЬТАТ РАЗНЫМИ МЕТРИКАМИ**"
   ]
  },
  {
   "cell_type": "code",
   "execution_count": 35,
   "metadata": {},
   "outputs": [
    {
     "data": {
      "text/html": [
       "<style>#sk-container-id-2 {color: black;background-color: white;}#sk-container-id-2 pre{padding: 0;}#sk-container-id-2 div.sk-toggleable {background-color: white;}#sk-container-id-2 label.sk-toggleable__label {cursor: pointer;display: block;width: 100%;margin-bottom: 0;padding: 0.3em;box-sizing: border-box;text-align: center;}#sk-container-id-2 label.sk-toggleable__label-arrow:before {content: \"▸\";float: left;margin-right: 0.25em;color: #696969;}#sk-container-id-2 label.sk-toggleable__label-arrow:hover:before {color: black;}#sk-container-id-2 div.sk-estimator:hover label.sk-toggleable__label-arrow:before {color: black;}#sk-container-id-2 div.sk-toggleable__content {max-height: 0;max-width: 0;overflow: hidden;text-align: left;background-color: #f0f8ff;}#sk-container-id-2 div.sk-toggleable__content pre {margin: 0.2em;color: black;border-radius: 0.25em;background-color: #f0f8ff;}#sk-container-id-2 input.sk-toggleable__control:checked~div.sk-toggleable__content {max-height: 200px;max-width: 100%;overflow: auto;}#sk-container-id-2 input.sk-toggleable__control:checked~label.sk-toggleable__label-arrow:before {content: \"▾\";}#sk-container-id-2 div.sk-estimator input.sk-toggleable__control:checked~label.sk-toggleable__label {background-color: #d4ebff;}#sk-container-id-2 div.sk-label input.sk-toggleable__control:checked~label.sk-toggleable__label {background-color: #d4ebff;}#sk-container-id-2 input.sk-hidden--visually {border: 0;clip: rect(1px 1px 1px 1px);clip: rect(1px, 1px, 1px, 1px);height: 1px;margin: -1px;overflow: hidden;padding: 0;position: absolute;width: 1px;}#sk-container-id-2 div.sk-estimator {font-family: monospace;background-color: #f0f8ff;border: 1px dotted black;border-radius: 0.25em;box-sizing: border-box;margin-bottom: 0.5em;}#sk-container-id-2 div.sk-estimator:hover {background-color: #d4ebff;}#sk-container-id-2 div.sk-parallel-item::after {content: \"\";width: 100%;border-bottom: 1px solid gray;flex-grow: 1;}#sk-container-id-2 div.sk-label:hover label.sk-toggleable__label {background-color: #d4ebff;}#sk-container-id-2 div.sk-serial::before {content: \"\";position: absolute;border-left: 1px solid gray;box-sizing: border-box;top: 0;bottom: 0;left: 50%;z-index: 0;}#sk-container-id-2 div.sk-serial {display: flex;flex-direction: column;align-items: center;background-color: white;padding-right: 0.2em;padding-left: 0.2em;position: relative;}#sk-container-id-2 div.sk-item {position: relative;z-index: 1;}#sk-container-id-2 div.sk-parallel {display: flex;align-items: stretch;justify-content: center;background-color: white;position: relative;}#sk-container-id-2 div.sk-item::before, #sk-container-id-2 div.sk-parallel-item::before {content: \"\";position: absolute;border-left: 1px solid gray;box-sizing: border-box;top: 0;bottom: 0;left: 50%;z-index: -1;}#sk-container-id-2 div.sk-parallel-item {display: flex;flex-direction: column;z-index: 1;position: relative;background-color: white;}#sk-container-id-2 div.sk-parallel-item:first-child::after {align-self: flex-end;width: 50%;}#sk-container-id-2 div.sk-parallel-item:last-child::after {align-self: flex-start;width: 50%;}#sk-container-id-2 div.sk-parallel-item:only-child::after {width: 0;}#sk-container-id-2 div.sk-dashed-wrapped {border: 1px dashed gray;margin: 0 0.4em 0.5em 0.4em;box-sizing: border-box;padding-bottom: 0.4em;background-color: white;}#sk-container-id-2 div.sk-label label {font-family: monospace;font-weight: bold;display: inline-block;line-height: 1.2em;}#sk-container-id-2 div.sk-label-container {text-align: center;}#sk-container-id-2 div.sk-container {/* jupyter's `normalize.less` sets `[hidden] { display: none; }` but bootstrap.min.css set `[hidden] { display: none !important; }` so we also need the `!important` here to be able to override the default hidden behavior on the sphinx rendered scikit-learn.org. See: https://github.com/scikit-learn/scikit-learn/issues/21755 */display: inline-block !important;position: relative;}#sk-container-id-2 div.sk-text-repr-fallback {display: none;}</style><div id=\"sk-container-id-2\" class=\"sk-top-container\"><div class=\"sk-text-repr-fallback\"><pre>Ridge(alpha=1e-06, max_iter=10000)</pre><b>In a Jupyter environment, please rerun this cell to show the HTML representation or trust the notebook. <br />On GitHub, the HTML representation is unable to render, please try loading this page with nbviewer.org.</b></div><div class=\"sk-container\" hidden><div class=\"sk-item\"><div class=\"sk-estimator sk-toggleable\"><input class=\"sk-toggleable__control sk-hidden--visually\" id=\"sk-estimator-id-2\" type=\"checkbox\" checked><label for=\"sk-estimator-id-2\" class=\"sk-toggleable__label sk-toggleable__label-arrow\">Ridge</label><div class=\"sk-toggleable__content\"><pre>Ridge(alpha=1e-06, max_iter=10000)</pre></div></div></div></div></div>"
      ],
      "text/plain": [
       "Ridge(alpha=1e-06, max_iter=10000)"
      ]
     },
     "execution_count": 35,
     "metadata": {},
     "output_type": "execute_result"
    }
   ],
   "source": [
    "lin_regr = Ridge(alpha=0.000001, max_iter=10000)\n",
    "lin_regr.fit(train.loc[:, train.columns != 'selling_price'], train['selling_price'])"
   ]
  },
  {
   "cell_type": "code",
   "execution_count": 36,
   "metadata": {},
   "outputs": [
    {
     "data": {
      "text/plain": [
       "array([-2.34526389e-02, -2.31339282e-02, -4.61020530e-03, -4.50053976e-02,\n",
       "        6.14467139e-02, -2.98681021e-02, -3.42772473e-02, -6.38405761e-02,\n",
       "       -9.10267774e-02, -4.80038933e-02, -1.80344653e-02, -3.27577186e-02,\n",
       "        2.61608293e-02,  7.68005374e-02, -4.01013336e-05,  5.81766325e-02,\n",
       "       -4.21268934e-02,  3.53846058e-01, -1.98371312e-02,  3.22928050e-01,\n",
       "        1.20241584e-01,  6.31244434e-02,  2.10448495e-03,  6.78589623e-02,\n",
       "        8.73118359e-03,  1.40942330e-02, -7.02010199e-03,  4.21872133e-03,\n",
       "       -8.75192162e-24,  1.70821455e-02,  5.17419602e-03,  2.43091362e-01,\n",
       "       -6.69349836e-02, -1.04031108e-02, -5.50730052e-03,  3.65877283e-02,\n",
       "       -3.13922972e-02, -1.29349801e+00, -1.22555540e+00, -6.82321178e-01,\n",
       "       -3.88350799e-01, -6.39523592e-02,  3.06904131e-02,  9.95148650e-03,\n",
       "        1.71126401e-01,  6.88452741e-03, -1.26534212e-02,  2.07307207e-03,\n",
       "       -6.45222032e-02, -6.86907977e-02, -8.01934560e-02,  3.22408573e-01,\n",
       "       -5.16685213e-02, -1.08147933e-02,  2.28093978e-02,  1.84814795e-01,\n",
       "       -1.59673594e-02, -4.67042758e-02,  1.51368800e-02,  5.40652672e-03,\n",
       "       -2.19740481e-03, -1.95820830e-02,  1.62680374e-03])"
      ]
     },
     "execution_count": 36,
     "metadata": {},
     "output_type": "execute_result"
    }
   ],
   "source": [
    "lin_regr.coef_"
   ]
  },
  {
   "cell_type": "code",
   "execution_count": 37,
   "metadata": {},
   "outputs": [],
   "source": [
    "y_predict_train = lin_regr.predict(train.loc[:, train.columns != 'selling_price'])\n",
    "y_predict_test = lin_regr.predict(test.loc[:, test.columns != 'selling_price'])\n",
    "mae_train = mean_absolute_error(train['selling_price'], y_predict_train)\n",
    "mae_test = mean_absolute_error(test['selling_price'], y_predict_test)"
   ]
  },
  {
   "cell_type": "code",
   "execution_count": 38,
   "metadata": {},
   "outputs": [
    {
     "name": "stdout",
     "output_type": "stream",
     "text": [
      "0.19456877996664038\n",
      "0.19888102918564624\n"
     ]
    }
   ],
   "source": [
    "print(mae_train)\n",
    "print(mae_test)"
   ]
  },
  {
   "cell_type": "code",
   "execution_count": 42,
   "metadata": {},
   "outputs": [
    {
     "name": "stdout",
     "output_type": "stream",
     "text": [
      "[[790442.62052858]]\n",
      "[[793838.87140867]]\n"
     ]
    }
   ],
   "source": [
    "print(scall.inverse_transform([[mae_train]]))\n",
    "print(scall.inverse_transform([[mae_test]]))"
   ]
  },
  {
   "cell_type": "code",
   "execution_count": null,
   "metadata": {},
   "outputs": [],
   "source": []
  }
 ],
 "metadata": {
  "kernelspec": {
   "display_name": "Python 3",
   "language": "python",
   "name": "python3"
  },
  "language_info": {
   "codemirror_mode": {
    "name": "ipython",
    "version": 3
   },
   "file_extension": ".py",
   "mimetype": "text/x-python",
   "name": "python",
   "nbconvert_exporter": "python",
   "pygments_lexer": "ipython3",
   "version": "3.8.3"
  }
 },
 "nbformat": 4,
 "nbformat_minor": 5
}
