{
 "cells": [
  {
   "cell_type": "code",
   "execution_count": 1,
   "id": "e1520a1d",
   "metadata": {},
   "outputs": [],
   "source": [
    "import numpy as np\n",
    "import pandas as pd\n",
    "from sklearn.linear_model import LinearRegression, Lasso, Ridge\n",
    "from sklearn.preprocessing import StandardScaler, PolynomialFeatures\n",
    "from sklearn.model_selection import cross_validate\n",
    "import re\n",
    "import plotly.graph_objects as go\n",
    "import plotly.express as px\n",
    "from sklearn.preprocessing import OneHotEncoder\n",
    "import re\n",
    "from sklearn.metrics import mean_absolute_error, mean_absolute_percentage_error"
   ]
  },
  {
   "cell_type": "code",
   "execution_count": 2,
   "id": "14870b8f",
   "metadata": {},
   "outputs": [],
   "source": [
    "data = pd.read_csv('processed_df.csv')"
   ]
  },
  {
   "cell_type": "markdown",
   "id": "16b5d897",
   "metadata": {},
   "source": [
    "**ВЫКИНЕМ НАНЫ**"
   ]
  },
  {
   "cell_type": "code",
   "execution_count": 3,
   "id": "2d34f28d",
   "metadata": {
    "tags": []
   },
   "outputs": [
    {
     "data": {
      "text/plain": [
       "Unnamed: 0              0\n",
       "Maruti                  0\n",
       "Skoda                   0\n",
       "Honda                   0\n",
       "Hyundai                 0\n",
       "Toyota                  0\n",
       "Ford                    0\n",
       "Renault                 0\n",
       "Mahindra                0\n",
       "Tata                    0\n",
       "Chevrolet               0\n",
       "Fiat                    0\n",
       "Datsun                  0\n",
       "Jeep                    0\n",
       "Mercedes-Benz           0\n",
       "Mitsubishi              0\n",
       "Audi                    0\n",
       "Volkswagen              0\n",
       "BMW                     0\n",
       "Nissan                  0\n",
       "Lexus                   0\n",
       "Jaguar                  0\n",
       "Land                    0\n",
       "MG                      0\n",
       "Volvo                   0\n",
       "Daewoo                  0\n",
       "Kia                     0\n",
       "Force                   0\n",
       "Ambassador              0\n",
       "Ashok                   0\n",
       "Isuzu                   0\n",
       "Opel                    0\n",
       "year                    0\n",
       "selling_price           0\n",
       "km_driven               0\n",
       "Diesel                  0\n",
       "Individual              0\n",
       "Dealer                  0\n",
       "Manual                  0\n",
       "First Owner             0\n",
       "Second Owner            0\n",
       "Third Owner             0\n",
       "Fourth & Above Owner    0\n",
       "milage                  0\n",
       "engine                  0\n",
       "max_power               0\n",
       "torque                  0\n",
       "RPM_min                 0\n",
       "seats                   0\n",
       "dtype: int64"
      ]
     },
     "execution_count": 3,
     "metadata": {},
     "output_type": "execute_result"
    }
   ],
   "source": [
    "data_no_nans = data.copy()\n",
    "data_no_nans = data_no_nans.dropna()\n",
    "data_no_nans.isna().sum()"
   ]
  },
  {
   "cell_type": "markdown",
   "id": "16fb2794",
   "metadata": {},
   "source": [
    "**ВЫДЕЛИМ ТРЕНИРОВОЧНЫЕ И ТЕСТОВЫЕ МАССИВЫ**"
   ]
  },
  {
   "cell_type": "code",
   "execution_count": 4,
   "id": "e2eb78eb",
   "metadata": {},
   "outputs": [],
   "source": [
    "train_data_no_nans = data_no_nans.sample(frac=0.8)\n",
    "test_data_no_nans = data_no_nans.iloc[~data_no_nans.index.isin(train_data_no_nans.index), :]"
   ]
  },
  {
   "cell_type": "code",
   "execution_count": 5,
   "id": "0896f19e",
   "metadata": {},
   "outputs": [],
   "source": [
    "features_train = train_data_no_nans.iloc[:, train_data_no_nans.columns != 'selling_price']\n",
    "responses_train = train_data_no_nans['selling_price'].to_frame(name='selling_price')\n",
    "features_test = test_data_no_nans.iloc[:, test_data_no_nans.columns != 'selling_price']\n",
    "responses_test = test_data_no_nans['selling_price'].to_frame(name='selling_price')"
   ]
  },
  {
   "cell_type": "markdown",
   "id": "2951d83a",
   "metadata": {},
   "source": [
    "**НОРМИРУЕМ ДАННЫЕ**"
   ]
  },
  {
   "cell_type": "code",
   "execution_count": 6,
   "id": "a0ee09d6",
   "metadata": {},
   "outputs": [],
   "source": [
    "scaller = StandardScaler()\n",
    "x_train = scaller.fit_transform(features_train)\n",
    "y_train = scaller.fit_transform(responses_train)\n",
    "x_test = scaller.fit_transform(features_test)\n",
    "y_test = scaller.fit_transform(responses_test)"
   ]
  },
  {
   "cell_type": "markdown",
   "id": "0cfad5d6",
   "metadata": {},
   "source": [
    "# **ОБУЧИМ МОДЕЛЬ НА ТЕХ ДАННЫХ, ЧТО ЕСТЬ**"
   ]
  },
  {
   "cell_type": "markdown",
   "id": "ed6a0847",
   "metadata": {},
   "source": [
    "**ОБУЧИМ МОДЕЛЬ С ЛИНЕАРИЗАЦИЕЙ КОЭФФИЦИЕНТОВ L1 LASSO**"
   ]
  },
  {
   "cell_type": "code",
   "execution_count": 7,
   "id": "1ef31eae",
   "metadata": {},
   "outputs": [
    {
     "name": "stderr",
     "output_type": "stream",
     "text": [
      "/opt/anaconda3/lib/python3.9/site-packages/sklearn/linear_model/_coordinate_descent.py:647: ConvergenceWarning: Objective did not converge. You might want to increase the number of iterations, check the scale of the features or consider increasing regularisation. Duality gap: 3.366e+01, tolerance: 6.277e-01\n",
      "  model = cd_fast.enet_coordinate_descent(\n"
     ]
    },
    {
     "data": {
      "text/plain": [
       "0.859491299544503"
      ]
     },
     "execution_count": 7,
     "metadata": {},
     "output_type": "execute_result"
    }
   ],
   "source": [
    "l1_regr = Lasso(1e-5, max_iter=10 ** 4)\n",
    "l1_regr.fit(x_train, y_train)\n",
    "l1_regr.score(x_train, y_train)"
   ]
  },
  {
   "cell_type": "code",
   "execution_count": 8,
   "id": "c323340f",
   "metadata": {},
   "outputs": [
    {
     "data": {
      "text/plain": [
       "array([-2.03505348e-03,  4.11560248e-02, -8.58642939e-03,  5.17813196e-03,\n",
       "       -1.45990575e-03,  8.89397134e-02, -2.83437764e-03, -4.06491985e-03,\n",
       "       -4.84615248e-03, -3.84673216e-02, -1.71904215e-02, -7.44623233e-03,\n",
       "       -1.28646587e-02,  6.07820098e-02,  9.80734320e-02,  1.41460783e-02,\n",
       "        8.39099127e-02, -2.32790650e-02,  4.16201892e-01, -1.21584889e-03,\n",
       "        3.05805619e-01,  1.60285742e-01,  7.69663291e-02,  1.11151402e-02,\n",
       "        1.01619022e-01,  1.01755932e-02,  1.24045952e-02, -1.73864362e-03,\n",
       "        1.29370137e-02,  4.74143978e-04,  1.77668300e-02,  5.67717534e-03,\n",
       "        2.08273173e-01, -3.64132587e-02, -4.73133164e-02, -1.90378046e-03,\n",
       "        3.69938350e-02, -4.69406348e-02, -1.44356577e+00, -1.35771515e+00,\n",
       "       -7.58471341e-01, -4.43313116e-01, -7.17546980e-03,  4.51193599e-02,\n",
       "        1.93592412e-01,  1.06683443e-01, -5.27256296e-02, -1.03762118e-02])"
      ]
     },
     "execution_count": 8,
     "metadata": {},
     "output_type": "execute_result"
    }
   ],
   "source": [
    "l1_regr.coef_"
   ]
  },
  {
   "cell_type": "code",
   "execution_count": 9,
   "id": "c8e7ae13",
   "metadata": {},
   "outputs": [
    {
     "data": {
      "text/plain": [
       "0.7711877864126424"
      ]
     },
     "execution_count": 9,
     "metadata": {},
     "output_type": "execute_result"
    }
   ],
   "source": [
    "l1_regr.score(x_test, y_test)"
   ]
  },
  {
   "cell_type": "markdown",
   "id": "4f1beb5e",
   "metadata": {},
   "source": [
    "**КАК ВИДНО НА ТЕСТОВОЙ ВЫБОРКЕ РЕЗУЛЬТАТ ДАЖЕ ЛУЧШЕ.**"
   ]
  },
  {
   "cell_type": "markdown",
   "id": "4c8f9a1f",
   "metadata": {},
   "source": [
    "**МФ ПОЛУЧИЛИ РЕЗУЛЬТАТ ПО МЕТРИКЕ R2**"
   ]
  },
  {
   "cell_type": "markdown",
   "id": "297aa2ad",
   "metadata": {},
   "source": [
    "**ПОПРОБУЕМ ОЦЕНИТЬ С ПОМОЩЬЮ МЕТРИКИ MAE**"
   ]
  },
  {
   "cell_type": "code",
   "execution_count": 10,
   "id": "68c5ac34",
   "metadata": {},
   "outputs": [],
   "source": [
    "y_train_predict = l1_regr.predict(x_train)\n",
    "y_test_predict = l1_regr.predict(x_test)\n",
    "loss_train = mean_absolute_error(y_train, y_train_predict)\n",
    "loss_test = mean_absolute_error(y_test, y_test_predict)"
   ]
  },
  {
   "cell_type": "code",
   "execution_count": 11,
   "id": "9ef2b373",
   "metadata": {},
   "outputs": [
    {
     "name": "stdout",
     "output_type": "stream",
     "text": [
      "0.19404398368654388\n",
      "0.22757332857314572\n"
     ]
    }
   ],
   "source": [
    "print(loss_train)\n",
    "print(loss_test)"
   ]
  },
  {
   "cell_type": "markdown",
   "id": "9639dcd9",
   "metadata": {},
   "source": [
    "**ПОСМОТРИМ СКОЛЬКО ЭТО В ДЕНЕЖНОМ ЭКВИВАЛЕНТЕ С ПОМОЩЬЮ ИНВЕРСИИ НОРМАЛИЗАЦИИ**"
   ]
  },
  {
   "cell_type": "code",
   "execution_count": 12,
   "id": "ec7fe53f",
   "metadata": {},
   "outputs": [
    {
     "name": "stdout",
     "output_type": "stream",
     "text": [
      "[[729172.83906247]]\n",
      "[[752276.46295742]]\n"
     ]
    }
   ],
   "source": [
    "print(scaller.inverse_transform([[loss_train]]))\n",
    "print(scaller.inverse_transform([[loss_test]]))"
   ]
  },
  {
   "cell_type": "markdown",
   "id": "35b292f8",
   "metadata": {},
   "source": [
    "**ОЦЕНИМ С ПОМОЩЬЮ МЕТРИКИ MAPE**"
   ]
  },
  {
   "cell_type": "code",
   "execution_count": 13,
   "id": "a84f1b41",
   "metadata": {},
   "outputs": [],
   "source": [
    "loss_train_mape = mean_absolute_percentage_error(y_train, y_train_predict)\n",
    "loss_test_mape = mean_absolute_percentage_error(y_test, y_test_predict)"
   ]
  },
  {
   "cell_type": "code",
   "execution_count": 14,
   "id": "8574f3b6",
   "metadata": {},
   "outputs": [
    {
     "name": "stdout",
     "output_type": "stream",
     "text": [
      "2.2920453766236712\n",
      "1.6110357103332713\n"
     ]
    }
   ],
   "source": [
    "print(loss_train_mape)\n",
    "print(loss_test_mape)"
   ]
  },
  {
   "cell_type": "markdown",
   "id": "41810751",
   "metadata": {},
   "source": [
    "**ОПЯТЬ ЗАМЕЧАЕМ, ЧТО НА ТЕСТОВЫХ ДАННЫХ РЕЗУЛЬТАТ ЛУЧШЕ**"
   ]
  },
  {
   "cell_type": "markdown",
   "id": "fdbff2f1",
   "metadata": {},
   "source": [
    "# **ДОБАВИМ ПОЛИНОМ 9 СТЕПЕНИ ПО ПРИЗНАКАМ ТИП ТОПЛИВА И ОБЬЕМ ДВИГАТЕЛЯ**"
   ]
  },
  {
   "cell_type": "markdown",
   "id": "a111c404",
   "metadata": {},
   "source": [
    "**В РЕЗУЛЬТАТЕ АНАЛИЗА ДАННЫХ (ФАЙЛ processing_nes.ipynb) МЫ ВЫЯСНИЛИ, ЧТО ОБЬЕМ ДВИГАТЕЛЯ НАХОДИТСЯ В НЕКОТОРОЙ КОРЕЛЯЦИИ ОТ ТИПА ТОПЛИВА. ПОСТРОИВ ПОЛИНОМИАЛЬНУЮ МОДЕЛЬ, ОБУЧИВ ЕЕ И ПОСЧИТАВ ПОТЕРИ С КРОСС ВАЛИДАЦИЕЙ МЫ ПОНЯЛИ, ЧТО ДЛЯ ДВУХ ЭТИХ ДВУХ ПРИЗНАКОВ С ПОЛИНОМОМ СТЕПЕНЬЮ 9 (ФАЙЛ analyse.ipynb) МЫ МОЖЕМ УЛУЧШИТЬ МОДЕЛЬ. ПОПРОБУЕМ ЕЕ УЛУЧШИТЬ ДОБАВИВ ЭТИ ПРИЗНАКИ**"
   ]
  },
  {
   "cell_type": "markdown",
   "id": "206798aa",
   "metadata": {},
   "source": [
    "**ВОЗЬМЕМ ФРЕЙМ БЕЗ НАНОВ И СКАЛЯРИЗУЕМ**"
   ]
  },
  {
   "cell_type": "code",
   "execution_count": 15,
   "id": "e0d7c3ca",
   "metadata": {},
   "outputs": [],
   "source": [
    "scaller_poly = StandardScaler()\n",
    "x_poly = scaller_poly.fit_transform(data_no_nans[data_no_nans.columns.drop('selling_price')])\n",
    "y_poly = scaller_poly.fit_transform(data_no_nans[['selling_price']])"
   ]
  },
  {
   "cell_type": "code",
   "execution_count": 16,
   "id": "6eefdaae",
   "metadata": {},
   "outputs": [
    {
     "data": {
      "text/html": [
       "<div>\n",
       "<style scoped>\n",
       "    .dataframe tbody tr th:only-of-type {\n",
       "        vertical-align: middle;\n",
       "    }\n",
       "\n",
       "    .dataframe tbody tr th {\n",
       "        vertical-align: top;\n",
       "    }\n",
       "\n",
       "    .dataframe thead th {\n",
       "        text-align: right;\n",
       "    }\n",
       "</style>\n",
       "<table border=\"1\" class=\"dataframe\">\n",
       "  <thead>\n",
       "    <tr style=\"text-align: right;\">\n",
       "      <th></th>\n",
       "      <th>selling_price</th>\n",
       "      <th>Unnamed: 0</th>\n",
       "      <th>Maruti</th>\n",
       "      <th>Skoda</th>\n",
       "      <th>Honda</th>\n",
       "      <th>Hyundai</th>\n",
       "      <th>Toyota</th>\n",
       "      <th>Ford</th>\n",
       "      <th>Renault</th>\n",
       "      <th>Mahindra</th>\n",
       "      <th>...</th>\n",
       "      <th>First Owner</th>\n",
       "      <th>Second Owner</th>\n",
       "      <th>Third Owner</th>\n",
       "      <th>Fourth &amp; Above Owner</th>\n",
       "      <th>milage</th>\n",
       "      <th>engine</th>\n",
       "      <th>max_power</th>\n",
       "      <th>torque</th>\n",
       "      <th>RPM_min</th>\n",
       "      <th>seats</th>\n",
       "    </tr>\n",
       "  </thead>\n",
       "  <tbody>\n",
       "    <tr>\n",
       "      <th>0</th>\n",
       "      <td>-0.237694</td>\n",
       "      <td>-1.734017</td>\n",
       "      <td>1.535349</td>\n",
       "      <td>-0.115902</td>\n",
       "      <td>-0.251284</td>\n",
       "      <td>-0.454241</td>\n",
       "      <td>-0.253854</td>\n",
       "      <td>-0.228089</td>\n",
       "      <td>-0.173</td>\n",
       "      <td>-0.327019</td>\n",
       "      <td>...</td>\n",
       "      <td>0.721895</td>\n",
       "      <td>-0.587260</td>\n",
       "      <td>-0.263667</td>\n",
       "      <td>-0.144741</td>\n",
       "      <td>1.021092</td>\n",
       "      <td>-0.418993</td>\n",
       "      <td>-0.495635</td>\n",
       "      <td>0.151889</td>\n",
       "      <td>-0.617447</td>\n",
       "      <td>-0.436655</td>\n",
       "    </tr>\n",
       "    <tr>\n",
       "      <th>1</th>\n",
       "      <td>-0.339271</td>\n",
       "      <td>-1.733585</td>\n",
       "      <td>-0.651318</td>\n",
       "      <td>8.627996</td>\n",
       "      <td>-0.251284</td>\n",
       "      <td>-0.454241</td>\n",
       "      <td>-0.253854</td>\n",
       "      <td>-0.228089</td>\n",
       "      <td>-0.173</td>\n",
       "      <td>-0.327019</td>\n",
       "      <td>...</td>\n",
       "      <td>-1.385243</td>\n",
       "      <td>1.702822</td>\n",
       "      <td>-0.263667</td>\n",
       "      <td>-0.144741</td>\n",
       "      <td>0.440392</td>\n",
       "      <td>0.077846</td>\n",
       "      <td>0.345081</td>\n",
       "      <td>0.827818</td>\n",
       "      <td>-1.065356</td>\n",
       "      <td>-0.436655</td>\n",
       "    </tr>\n",
       "    <tr>\n",
       "      <th>2</th>\n",
       "      <td>-0.608449</td>\n",
       "      <td>-1.733153</td>\n",
       "      <td>-0.651318</td>\n",
       "      <td>-0.115902</td>\n",
       "      <td>3.979562</td>\n",
       "      <td>-0.454241</td>\n",
       "      <td>-0.253854</td>\n",
       "      <td>-0.228089</td>\n",
       "      <td>-0.173</td>\n",
       "      <td>-0.327019</td>\n",
       "      <td>...</td>\n",
       "      <td>-1.385243</td>\n",
       "      <td>-0.587260</td>\n",
       "      <td>3.792666</td>\n",
       "      <td>-0.144741</td>\n",
       "      <td>-0.443505</td>\n",
       "      <td>0.075858</td>\n",
       "      <td>-0.381717</td>\n",
       "      <td>-0.586450</td>\n",
       "      <td>0.009625</td>\n",
       "      <td>-0.436655</td>\n",
       "    </tr>\n",
       "    <tr>\n",
       "      <th>3</th>\n",
       "      <td>-0.523379</td>\n",
       "      <td>-1.732722</td>\n",
       "      <td>-0.651318</td>\n",
       "      <td>-0.115902</td>\n",
       "      <td>-0.251284</td>\n",
       "      <td>2.201476</td>\n",
       "      <td>-0.253854</td>\n",
       "      <td>-0.228089</td>\n",
       "      <td>-0.173</td>\n",
       "      <td>-0.327019</td>\n",
       "      <td>...</td>\n",
       "      <td>0.721895</td>\n",
       "      <td>-0.587260</td>\n",
       "      <td>-0.263667</td>\n",
       "      <td>-0.144741</td>\n",
       "      <td>0.918313</td>\n",
       "      <td>-0.124865</td>\n",
       "      <td>-0.039962</td>\n",
       "      <td>0.484446</td>\n",
       "      <td>-0.841402</td>\n",
       "      <td>-0.436655</td>\n",
       "    </tr>\n",
       "    <tr>\n",
       "      <th>4</th>\n",
       "      <td>-0.644001</td>\n",
       "      <td>-1.732290</td>\n",
       "      <td>1.535349</td>\n",
       "      <td>-0.115902</td>\n",
       "      <td>-0.251284</td>\n",
       "      <td>-0.454241</td>\n",
       "      <td>-0.253854</td>\n",
       "      <td>-0.228089</td>\n",
       "      <td>-0.173</td>\n",
       "      <td>-0.327019</td>\n",
       "      <td>...</td>\n",
       "      <td>0.721895</td>\n",
       "      <td>-0.587260</td>\n",
       "      <td>-0.263667</td>\n",
       "      <td>-0.144741</td>\n",
       "      <td>-0.854619</td>\n",
       "      <td>-0.319626</td>\n",
       "      <td>-0.091225</td>\n",
       "      <td>-0.718932</td>\n",
       "      <td>1.622096</td>\n",
       "      <td>-0.436655</td>\n",
       "    </tr>\n",
       "    <tr>\n",
       "      <th>...</th>\n",
       "      <td>...</td>\n",
       "      <td>...</td>\n",
       "      <td>...</td>\n",
       "      <td>...</td>\n",
       "      <td>...</td>\n",
       "      <td>...</td>\n",
       "      <td>...</td>\n",
       "      <td>...</td>\n",
       "      <td>...</td>\n",
       "      <td>...</td>\n",
       "      <td>...</td>\n",
       "      <td>...</td>\n",
       "      <td>...</td>\n",
       "      <td>...</td>\n",
       "      <td>...</td>\n",
       "      <td>...</td>\n",
       "      <td>...</td>\n",
       "      <td>...</td>\n",
       "      <td>...</td>\n",
       "      <td>...</td>\n",
       "      <td>...</td>\n",
       "    </tr>\n",
       "    <tr>\n",
       "      <th>7841</th>\n",
       "      <td>-0.402756</td>\n",
       "      <td>1.731147</td>\n",
       "      <td>-0.651318</td>\n",
       "      <td>-0.115902</td>\n",
       "      <td>-0.251284</td>\n",
       "      <td>2.201476</td>\n",
       "      <td>-0.253854</td>\n",
       "      <td>-0.228089</td>\n",
       "      <td>-0.173</td>\n",
       "      <td>-0.327019</td>\n",
       "      <td>...</td>\n",
       "      <td>0.721895</td>\n",
       "      <td>-0.587260</td>\n",
       "      <td>-0.263667</td>\n",
       "      <td>-0.144741</td>\n",
       "      <td>-0.237947</td>\n",
       "      <td>-0.520348</td>\n",
       "      <td>-0.243591</td>\n",
       "      <td>-0.707667</td>\n",
       "      <td>1.174187</td>\n",
       "      <td>-0.436655</td>\n",
       "    </tr>\n",
       "    <tr>\n",
       "      <th>7842</th>\n",
       "      <td>-0.637652</td>\n",
       "      <td>1.731579</td>\n",
       "      <td>-0.651318</td>\n",
       "      <td>-0.115902</td>\n",
       "      <td>-0.251284</td>\n",
       "      <td>2.201476</td>\n",
       "      <td>-0.253854</td>\n",
       "      <td>-0.228089</td>\n",
       "      <td>-0.173</td>\n",
       "      <td>-0.327019</td>\n",
       "      <td>...</td>\n",
       "      <td>-1.385243</td>\n",
       "      <td>-0.587260</td>\n",
       "      <td>-0.263667</td>\n",
       "      <td>6.908901</td>\n",
       "      <td>-0.674757</td>\n",
       "      <td>0.067909</td>\n",
       "      <td>0.529629</td>\n",
       "      <td>0.661089</td>\n",
       "      <td>-0.707029</td>\n",
       "      <td>-0.436655</td>\n",
       "    </tr>\n",
       "    <tr>\n",
       "      <th>7843</th>\n",
       "      <td>-0.324034</td>\n",
       "      <td>1.732011</td>\n",
       "      <td>1.535349</td>\n",
       "      <td>-0.115902</td>\n",
       "      <td>-0.251284</td>\n",
       "      <td>-0.454241</td>\n",
       "      <td>-0.253854</td>\n",
       "      <td>-0.228089</td>\n",
       "      <td>-0.173</td>\n",
       "      <td>-0.327019</td>\n",
       "      <td>...</td>\n",
       "      <td>0.721895</td>\n",
       "      <td>-0.587260</td>\n",
       "      <td>-0.263667</td>\n",
       "      <td>-0.144741</td>\n",
       "      <td>-0.032390</td>\n",
       "      <td>-0.418993</td>\n",
       "      <td>-0.498483</td>\n",
       "      <td>0.151889</td>\n",
       "      <td>-0.617447</td>\n",
       "      <td>-0.436655</td>\n",
       "    </tr>\n",
       "    <tr>\n",
       "      <th>7844</th>\n",
       "      <td>-0.440848</td>\n",
       "      <td>1.732442</td>\n",
       "      <td>-0.651318</td>\n",
       "      <td>-0.115902</td>\n",
       "      <td>-0.251284</td>\n",
       "      <td>-0.454241</td>\n",
       "      <td>-0.253854</td>\n",
       "      <td>-0.228089</td>\n",
       "      <td>-0.173</td>\n",
       "      <td>-0.327019</td>\n",
       "      <td>...</td>\n",
       "      <td>0.721895</td>\n",
       "      <td>-0.587260</td>\n",
       "      <td>-0.263667</td>\n",
       "      <td>-0.144741</td>\n",
       "      <td>1.064773</td>\n",
       "      <td>-0.124865</td>\n",
       "      <td>-0.609553</td>\n",
       "      <td>-0.411385</td>\n",
       "      <td>-0.796611</td>\n",
       "      <td>-0.436655</td>\n",
       "    </tr>\n",
       "    <tr>\n",
       "      <th>7845</th>\n",
       "      <td>-0.440848</td>\n",
       "      <td>1.732874</td>\n",
       "      <td>-0.651318</td>\n",
       "      <td>-0.115902</td>\n",
       "      <td>-0.251284</td>\n",
       "      <td>-0.454241</td>\n",
       "      <td>-0.253854</td>\n",
       "      <td>-0.228089</td>\n",
       "      <td>-0.173</td>\n",
       "      <td>-0.327019</td>\n",
       "      <td>...</td>\n",
       "      <td>0.721895</td>\n",
       "      <td>-0.587260</td>\n",
       "      <td>-0.263667</td>\n",
       "      <td>-0.144741</td>\n",
       "      <td>1.064773</td>\n",
       "      <td>-0.124865</td>\n",
       "      <td>-0.609553</td>\n",
       "      <td>-0.411385</td>\n",
       "      <td>-0.796611</td>\n",
       "      <td>-0.436655</td>\n",
       "    </tr>\n",
       "  </tbody>\n",
       "</table>\n",
       "<p>7846 rows × 49 columns</p>\n",
       "</div>"
      ],
      "text/plain": [
       "      selling_price  Unnamed: 0    Maruti     Skoda     Honda   Hyundai  \\\n",
       "0         -0.237694   -1.734017  1.535349 -0.115902 -0.251284 -0.454241   \n",
       "1         -0.339271   -1.733585 -0.651318  8.627996 -0.251284 -0.454241   \n",
       "2         -0.608449   -1.733153 -0.651318 -0.115902  3.979562 -0.454241   \n",
       "3         -0.523379   -1.732722 -0.651318 -0.115902 -0.251284  2.201476   \n",
       "4         -0.644001   -1.732290  1.535349 -0.115902 -0.251284 -0.454241   \n",
       "...             ...         ...       ...       ...       ...       ...   \n",
       "7841      -0.402756    1.731147 -0.651318 -0.115902 -0.251284  2.201476   \n",
       "7842      -0.637652    1.731579 -0.651318 -0.115902 -0.251284  2.201476   \n",
       "7843      -0.324034    1.732011  1.535349 -0.115902 -0.251284 -0.454241   \n",
       "7844      -0.440848    1.732442 -0.651318 -0.115902 -0.251284 -0.454241   \n",
       "7845      -0.440848    1.732874 -0.651318 -0.115902 -0.251284 -0.454241   \n",
       "\n",
       "        Toyota      Ford  Renault  Mahindra  ...  First Owner  Second Owner  \\\n",
       "0    -0.253854 -0.228089   -0.173 -0.327019  ...     0.721895     -0.587260   \n",
       "1    -0.253854 -0.228089   -0.173 -0.327019  ...    -1.385243      1.702822   \n",
       "2    -0.253854 -0.228089   -0.173 -0.327019  ...    -1.385243     -0.587260   \n",
       "3    -0.253854 -0.228089   -0.173 -0.327019  ...     0.721895     -0.587260   \n",
       "4    -0.253854 -0.228089   -0.173 -0.327019  ...     0.721895     -0.587260   \n",
       "...        ...       ...      ...       ...  ...          ...           ...   \n",
       "7841 -0.253854 -0.228089   -0.173 -0.327019  ...     0.721895     -0.587260   \n",
       "7842 -0.253854 -0.228089   -0.173 -0.327019  ...    -1.385243     -0.587260   \n",
       "7843 -0.253854 -0.228089   -0.173 -0.327019  ...     0.721895     -0.587260   \n",
       "7844 -0.253854 -0.228089   -0.173 -0.327019  ...     0.721895     -0.587260   \n",
       "7845 -0.253854 -0.228089   -0.173 -0.327019  ...     0.721895     -0.587260   \n",
       "\n",
       "      Third Owner  Fourth & Above Owner    milage    engine  max_power  \\\n",
       "0       -0.263667             -0.144741  1.021092 -0.418993  -0.495635   \n",
       "1       -0.263667             -0.144741  0.440392  0.077846   0.345081   \n",
       "2        3.792666             -0.144741 -0.443505  0.075858  -0.381717   \n",
       "3       -0.263667             -0.144741  0.918313 -0.124865  -0.039962   \n",
       "4       -0.263667             -0.144741 -0.854619 -0.319626  -0.091225   \n",
       "...           ...                   ...       ...       ...        ...   \n",
       "7841    -0.263667             -0.144741 -0.237947 -0.520348  -0.243591   \n",
       "7842    -0.263667              6.908901 -0.674757  0.067909   0.529629   \n",
       "7843    -0.263667             -0.144741 -0.032390 -0.418993  -0.498483   \n",
       "7844    -0.263667             -0.144741  1.064773 -0.124865  -0.609553   \n",
       "7845    -0.263667             -0.144741  1.064773 -0.124865  -0.609553   \n",
       "\n",
       "        torque   RPM_min     seats  \n",
       "0     0.151889 -0.617447 -0.436655  \n",
       "1     0.827818 -1.065356 -0.436655  \n",
       "2    -0.586450  0.009625 -0.436655  \n",
       "3     0.484446 -0.841402 -0.436655  \n",
       "4    -0.718932  1.622096 -0.436655  \n",
       "...        ...       ...       ...  \n",
       "7841 -0.707667  1.174187 -0.436655  \n",
       "7842  0.661089 -0.707029 -0.436655  \n",
       "7843  0.151889 -0.617447 -0.436655  \n",
       "7844 -0.411385 -0.796611 -0.436655  \n",
       "7845 -0.411385 -0.796611 -0.436655  \n",
       "\n",
       "[7846 rows x 49 columns]"
      ]
     },
     "execution_count": 16,
     "metadata": {},
     "output_type": "execute_result"
    }
   ],
   "source": [
    "scaled_df = pd.DataFrame(data=np.hstack((y_poly, x_poly)), columns=['selling_price'] + list(data_no_nans.columns.drop('selling_price')))\n",
    "scaled_df"
   ]
  },
  {
   "cell_type": "markdown",
   "id": "e1d02f8b",
   "metadata": {},
   "source": [
    "**СОЗДАДИМ ПОЛИНОМ 9Й СТЕПЕНИ ДЛЯ ДВИГАТЕЛЯ И ДИЗЕЛЯ**"
   ]
  },
  {
   "cell_type": "code",
   "execution_count": 17,
   "id": "061a9f0f",
   "metadata": {},
   "outputs": [
    {
     "data": {
      "text/plain": [
       "(7846, 36)"
      ]
     },
     "execution_count": 17,
     "metadata": {},
     "output_type": "execute_result"
    }
   ],
   "source": [
    "poly_obj = PolynomialFeatures(7)\n",
    "engine_diesel_poly = poly_obj.fit_transform(scaled_df[['Diesel', 'engine']])\n",
    "engine_diesel_poly.shape"
   ]
  },
  {
   "cell_type": "markdown",
   "id": "b3036908",
   "metadata": {},
   "source": [
    "**УБЕРЕМ ПЕРВЫЕ ТРИ СТОЛБЦА, ПЕРВЫЙ ПОТОМУ ЧТО ЕДИНИЧНЫЙ ДЛЯ СВОБОНОГО ВЕСА, ВТОРЫЕ ДВА ПОТОМУ ЧТО ПОВТОРЕНИЕ ТЕХ, ЧТО УЖЕ ЕСТЬ В ДАТАСЕТЕ, ЗАПИШЕМ ВО ФРЕЙМ**"
   ]
  },
  {
   "cell_type": "code",
   "execution_count": 18,
   "id": "fa0984fa",
   "metadata": {},
   "outputs": [],
   "source": [
    "engine_diesel_poly_df = pd.DataFrame(data=engine_diesel_poly[:, 3:], columns=[f'Dies*Engine{i + 1}' for i in range(engine_diesel_poly.shape[1] - 3)])"
   ]
  },
  {
   "cell_type": "markdown",
   "id": "60743f90",
   "metadata": {},
   "source": [
    "**СОБЕРЕМ ПОЛИНОМ С ДАТАСЕТОМ**"
   ]
  },
  {
   "cell_type": "code",
   "execution_count": 19,
   "id": "8e022435",
   "metadata": {},
   "outputs": [],
   "source": [
    "poly_prepared = pd.concat([scaled_df, engine_diesel_poly_df], axis=1)"
   ]
  },
  {
   "cell_type": "markdown",
   "id": "07987da7",
   "metadata": {},
   "source": [
    "**РАЗДЕЛИМ ВЕСЬ СКАЛЯРИЗОВАННЫЙ ДАТАСЕТ НА ТРЕНИРОВОЧНЫЙ И ТЕСТОВЫЙ**"
   ]
  },
  {
   "cell_type": "code",
   "execution_count": 20,
   "id": "81845cc6",
   "metadata": {},
   "outputs": [],
   "source": [
    "poly_prepared_train = poly_prepared.sample(frac=0.8, random_state=0).sort_index()\n",
    "poly_prepared_test = poly_prepared.iloc[~scaled_df.index.isin(poly_prepared_train.index)].sort_index()"
   ]
  },
  {
   "cell_type": "markdown",
   "id": "fa4c6ce3",
   "metadata": {},
   "source": [
    "**НАЧНЕМ ОБУЧАТЬ МОДЕЛЬ С L1/L2 НА ТРЕНИРОВОЧНОМ ДАТАСЕТЕ**"
   ]
  },
  {
   "cell_type": "code",
   "execution_count": 21,
   "id": "f0910799",
   "metadata": {},
   "outputs": [
    {
     "data": {
      "text/plain": [
       "Ridge(alpha=0.0001, max_iter=10000)"
      ]
     },
     "execution_count": 21,
     "metadata": {},
     "output_type": "execute_result"
    }
   ],
   "source": [
    "regr_poly = Ridge(alpha=0.0001, max_iter=10 ** 4)\n",
    "regr_poly.fit(poly_prepared_train.iloc[:, 1:], poly_prepared_train.iloc[:, 0])"
   ]
  },
  {
   "cell_type": "code",
   "execution_count": 22,
   "id": "65e98823",
   "metadata": {},
   "outputs": [
    {
     "data": {
      "text/plain": [
       "array([ 9.83813174e-04, -3.15763859e-02, -1.86235097e-02, -2.38158744e-02,\n",
       "       -6.12217933e-02,  5.22286535e-02, -3.47338973e-02, -3.86751207e-02,\n",
       "       -4.78899322e-02, -7.57828284e-02, -4.27670335e-02, -2.08825217e-02,\n",
       "       -2.91704802e-02,  2.22248922e-02,  1.09301135e-01,  5.95599857e-03,\n",
       "        7.40423838e-02, -4.58662268e-02,  3.77219617e-01, -2.13482766e-02,\n",
       "        2.71358006e-01,  1.49099507e-01,  6.96460680e-02,  7.08189898e-03,\n",
       "        9.72699479e-02,  6.07472124e-03,  1.28128967e-02, -5.36287258e-03,\n",
       "        1.46477791e-02, -1.59307343e-26,  1.93191433e-02,  4.73656601e-03,\n",
       "        2.15386081e-01, -6.49711417e-02, -2.85290841e-03,  4.91701141e-03,\n",
       "        4.13029703e-02, -2.89593151e-02, -1.51062182e+00, -1.42497831e+00,\n",
       "       -7.92538956e-01, -4.53416679e-01, -3.93317800e-02, -2.22783798e-02,\n",
       "        1.85902963e-01,  2.07792988e-01, -2.42722655e-02, -2.56354273e-03,\n",
       "        5.68590085e-04, -5.94033864e-03, -7.71605054e-02, -2.96623244e-03,\n",
       "       -2.10946017e-02, -1.74303266e-02, -2.42288984e-02,  1.15975440e-03,\n",
       "       -1.73628337e-03, -7.36868151e-02, -2.27229325e-02,  1.05419229e-01,\n",
       "       -3.19738425e-03, -2.07485342e-02, -2.74522221e-03, -1.97000692e-02,\n",
       "        2.85263441e-03,  5.74164605e-03,  1.79701596e-03,  2.39885063e-03,\n",
       "       -7.31399725e-02, -1.87962907e-02,  1.04849252e-01,  1.39016603e-02,\n",
       "       -4.93740438e-02, -3.55555310e-03, -2.12264383e-02,  1.18315734e-02,\n",
       "       -1.59528347e-02, -1.80459551e-02,  2.98379555e-03,  7.24050418e-04,\n",
       "        9.17674992e-03])"
      ]
     },
     "execution_count": 22,
     "metadata": {},
     "output_type": "execute_result"
    }
   ],
   "source": [
    "regr_poly.coef_"
   ]
  },
  {
   "cell_type": "markdown",
   "id": "23759219-6692-4d9a-a930-21562dd7fea8",
   "metadata": {},
   "source": [
    "**ОЦЕНИМ ПОТЕРИ ПО МЕТРИКЕ MAE**"
   ]
  },
  {
   "cell_type": "code",
   "execution_count": 23,
   "id": "0c8f280b",
   "metadata": {},
   "outputs": [],
   "source": [
    "y_train_predict = regr_poly.predict(poly_prepared_train.iloc[:, 1:])\n",
    "y_test_predict = regr_poly.predict(poly_prepared_test.iloc[:, 1:])\n",
    "loss_train = mean_absolute_error(poly_prepared_train.iloc[:, 0], y_train_predict)\n",
    "loss_test = mean_absolute_error(poly_prepared_test.iloc[:, 0], y_test_predict)"
   ]
  },
  {
   "cell_type": "code",
   "execution_count": 24,
   "id": "63233617",
   "metadata": {},
   "outputs": [
    {
     "name": "stdout",
     "output_type": "stream",
     "text": [
      "0.19380667513231625\n",
      "0.196529693134915\n"
     ]
    }
   ],
   "source": [
    "print(loss_train)\n",
    "print(loss_test)"
   ]
  },
  {
   "cell_type": "code",
   "execution_count": 25,
   "id": "ef634dbb",
   "metadata": {},
   "outputs": [
    {
     "name": "stdout",
     "output_type": "stream",
     "text": [
      "[[789842.40029945]]\n",
      "[[791987.00090534]]\n"
     ]
    }
   ],
   "source": [
    "print(scaller_poly.inverse_transform([[loss_train]]))\n",
    "print(scaller_poly.inverse_transform([[loss_test]]))"
   ]
  },
  {
   "cell_type": "markdown",
   "id": "275efd0e-a92b-4fa2-8815-8ab083d4a9c0",
   "metadata": {},
   "source": [
    "**ОЦЕНИМ ПОТЕРИ ПО МЕТРИКЕ MAPE**"
   ]
  },
  {
   "cell_type": "code",
   "execution_count": 26,
   "id": "1153936e-d5f9-47c5-a7d4-57b678ff1bfa",
   "metadata": {},
   "outputs": [
    {
     "name": "stdout",
     "output_type": "stream",
     "text": [
      "1.169829741804977\n",
      "1.3212712425316433\n"
     ]
    }
   ],
   "source": [
    "loss_train_mape = mean_absolute_percentage_error(poly_prepared_train.iloc[:, 0], y_train_predict)\n",
    "loss_test_mape = mean_absolute_percentage_error(poly_prepared_test.iloc[:, 0], y_test_predict)\n",
    "print(loss_train_mape)\n",
    "print(loss_test_mape)"
   ]
  },
  {
   "cell_type": "markdown",
   "id": "7a25905f-497b-4908-95f0-bd88c7bbb912",
   "metadata": {},
   "source": [
    "**КАК ВИДНО РЕЗУЛЬТАТЫ ЧУУУУУУУТЬ ЧУТЬ УЛУЧШИЛИСЬ, ПОПРОБУЕМ ЕЩЕ УЛУЧШИТЬ МОДЕЛЬ**"
   ]
  },
  {
   "cell_type": "code",
   "execution_count": null,
   "id": "dc80cf68-c2b9-42b7-8b70-a592d1048f3b",
   "metadata": {},
   "outputs": [],
   "source": []
  }
 ],
 "metadata": {
  "kernelspec": {
   "display_name": "Python 3 (ipykernel)",
   "language": "python",
   "name": "python3"
  },
  "language_info": {
   "codemirror_mode": {
    "name": "ipython",
    "version": 3
   },
   "file_extension": ".py",
   "mimetype": "text/x-python",
   "name": "python",
   "nbconvert_exporter": "python",
   "pygments_lexer": "ipython3",
   "version": "3.9.13"
  }
 },
 "nbformat": 4,
 "nbformat_minor": 5
}
