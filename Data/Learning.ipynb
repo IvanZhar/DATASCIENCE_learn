{
 "cells": [
  {
   "cell_type": "code",
   "execution_count": 39,
   "id": "58404053-a5b8-4a2b-985b-92eee93e38c5",
   "metadata": {},
   "outputs": [],
   "source": [
    "import numpy as np\n",
    "import pandas as pd\n",
    "from sklearn.linear_model import LinearRegression, Lasso, Ridge\n",
    "from sklearn.preprocessing import StandardScaler\n",
    "from sklearn.model_selection import cross_validate\n",
    "import re\n",
    "import plotly.graph_objects as go\n",
    "import plotly.express as px\n",
    "from sklearn.preprocessing import OneHotEncoder\n",
    "import re"
   ]
  },
  {
   "cell_type": "code",
   "execution_count": 11,
   "id": "27868f2b-73f1-4a38-9380-fbfe9c6aa50a",
   "metadata": {},
   "outputs": [],
   "source": [
    "data = pd.read_csv('processed_df.csv')"
   ]
  },
  {
   "cell_type": "markdown",
   "id": "82ec0fde-0925-4949-9238-9eea4b508471",
   "metadata": {},
   "source": [
    "# **ПОПРОБУЕМ ОБУЧИТЬ МОДЕЛЬ НА ДАННЫХ**"
   ]
  },
  {
   "cell_type": "markdown",
   "id": "3514d47e-30c9-4f08-a31d-dc69696c6f80",
   "metadata": {},
   "source": [
    "**ВЫКИНЕМ НАНЫ**"
   ]
  },
  {
   "cell_type": "code",
   "execution_count": 16,
   "id": "8342ba2c-8513-4164-b9cb-0ee0dd8a9675",
   "metadata": {
    "collapsed": true,
    "jupyter": {
     "outputs_hidden": true
    },
    "tags": []
   },
   "outputs": [
    {
     "data": {
      "text/plain": [
       "Unnamed: 0              0\n",
       "Maruti                  0\n",
       "Skoda                   0\n",
       "Honda                   0\n",
       "Hyundai                 0\n",
       "Toyota                  0\n",
       "Ford                    0\n",
       "Renault                 0\n",
       "Mahindra                0\n",
       "Tata                    0\n",
       "Chevrolet               0\n",
       "Fiat                    0\n",
       "Datsun                  0\n",
       "Jeep                    0\n",
       "Mercedes-Benz           0\n",
       "Mitsubishi              0\n",
       "Audi                    0\n",
       "Volkswagen              0\n",
       "BMW                     0\n",
       "Nissan                  0\n",
       "Lexus                   0\n",
       "Jaguar                  0\n",
       "Land                    0\n",
       "MG                      0\n",
       "Volvo                   0\n",
       "Daewoo                  0\n",
       "Kia                     0\n",
       "Force                   0\n",
       "Ambassador              0\n",
       "Ashok                   0\n",
       "Isuzu                   0\n",
       "Opel                    0\n",
       "year                    0\n",
       "selling_price           0\n",
       "km_driven               0\n",
       "Diesel                  0\n",
       "Individual              0\n",
       "Dealer                  0\n",
       "Manual                  0\n",
       "First Owner             0\n",
       "Second Owner            0\n",
       "Third Owner             0\n",
       "Fourth & Above Owner    0\n",
       "milage                  0\n",
       "engine                  0\n",
       "max_power               0\n",
       "torque                  0\n",
       "RPM_min                 0\n",
       "seats                   0\n",
       "dtype: int64"
      ]
     },
     "execution_count": 16,
     "metadata": {},
     "output_type": "execute_result"
    }
   ],
   "source": [
    "data_no_nans = data.copy()\n",
    "data_no_nans = data_no_nans.dropna()\n",
    "data_no_nans.isna().sum()"
   ]
  },
  {
   "cell_type": "markdown",
   "id": "275fd4ac-2bba-4b00-9236-11e4ca358ecf",
   "metadata": {},
   "source": [
    "**ВЫДЕЛИМ ТРЕНИРОВОЧНЫЕ И ТЕСТОВЫЕ МАССИВЫ**"
   ]
  },
  {
   "cell_type": "code",
   "execution_count": 27,
   "id": "2b102700-c946-44a8-a0ff-89531a5e5039",
   "metadata": {},
   "outputs": [],
   "source": [
    "train_data_no_nans = data_no_nans.sample(frac=0.8)\n",
    "test_data_no_nans = data_no_nans.iloc[~data_no_nans.index.isin(train_data_no_nans.index), :]"
   ]
  },
  {
   "cell_type": "markdown",
   "id": "116159d6-4250-4e7a-ad5e-993d4e9b98e6",
   "metadata": {},
   "source": [
    "**НОРМИРУЕМ ДАННЫЕ**"
   ]
  },
  {
   "cell_type": "code",
   "execution_count": 30,
   "id": "622da9ca-83ba-4da7-8eb1-2740804281e3",
   "metadata": {},
   "outputs": [],
   "source": [
    "features = train_data_no_nans.iloc[:, train_data_no_nans.columns != 'selling_price']\n",
    "responses = train_data_no_nans['selling_price'].to_frame(name='selling_price')"
   ]
  },
  {
   "cell_type": "code",
   "execution_count": 31,
   "id": "91e8d2c7-8229-442a-be2d-caa8722ce6ef",
   "metadata": {},
   "outputs": [],
   "source": [
    "scaller = StandardScaler()\n",
    "x = scaller.fit_transform(features)\n",
    "y = scaller.fit_transform(responses)"
   ]
  },
  {
   "cell_type": "markdown",
   "id": "90f17aee-45b5-4235-b9af-f73dda42cf01",
   "metadata": {},
   "source": [
    "**ОБУЧИМ МОДЕЛЬ С ЛИНЕАРИЗАЦИЕЙ КОЭФФИЦИЕНТОВ L1 LASSO**"
   ]
  },
  {
   "cell_type": "code",
   "execution_count": 46,
   "id": "4ffee152-f0f7-488d-80ef-ae15bf41bbbc",
   "metadata": {},
   "outputs": [
    {
     "data": {
      "text/plain": [
       "0.8512069325918739"
      ]
     },
     "execution_count": 46,
     "metadata": {},
     "output_type": "execute_result"
    }
   ],
   "source": [
    "l1_regr = Ridge(alpha=0.000000001)\n",
    "l1_regr.fit(x, y)\n",
    "l1_regr.score(x, y)"
   ]
  },
  {
   "cell_type": "code",
   "execution_count": null,
   "id": "0e20c902-a9a8-4efd-937f-0141450396f9",
   "metadata": {},
   "outputs": [],
   "source": []
  }
 ],
 "metadata": {
  "kernelspec": {
   "display_name": "Python 3 (ipykernel)",
   "language": "python",
   "name": "python3"
  },
  "language_info": {
   "codemirror_mode": {
    "name": "ipython",
    "version": 3
   },
   "file_extension": ".py",
   "mimetype": "text/x-python",
   "name": "python",
   "nbconvert_exporter": "python",
   "pygments_lexer": "ipython3",
   "version": "3.9.13"
  }
 },
 "nbformat": 4,
 "nbformat_minor": 5
}
