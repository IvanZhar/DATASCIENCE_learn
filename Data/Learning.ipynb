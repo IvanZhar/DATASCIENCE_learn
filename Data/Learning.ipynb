{
 "cells": [
  {
   "cell_type": "code",
   "execution_count": 1,
   "id": "c66db39a",
   "metadata": {},
   "outputs": [],
   "source": [
    "import numpy as np\n",
    "import pandas as pd\n",
    "from sklearn.linear_model import LinearRegression, Lasso, Ridge\n",
    "from sklearn.preprocessing import StandardScaler, PolynomialFeatures\n",
    "from sklearn.model_selection import cross_validate\n",
    "import re\n",
    "import plotly.graph_objects as go\n",
    "import plotly.express as px\n",
    "from sklearn.preprocessing import OneHotEncoder\n",
    "import re\n",
    "from sklearn.metrics import mean_absolute_error, mean_absolute_percentage_error"
   ]
  },
  {
   "cell_type": "code",
   "execution_count": 2,
   "id": "26c09954",
   "metadata": {},
   "outputs": [],
   "source": [
    "data = pd.read_csv('processed_df.csv')"
   ]
  },
  {
   "cell_type": "markdown",
   "id": "0c9efbca",
   "metadata": {},
   "source": [
    "**ВЫКИНЕМ НАНЫ**"
   ]
  },
  {
   "cell_type": "code",
   "execution_count": 3,
   "id": "0252f14e",
   "metadata": {
    "tags": []
   },
   "outputs": [
    {
     "data": {
      "text/plain": [
       "Unnamed: 0              0\n",
       "Maruti                  0\n",
       "Skoda                   0\n",
       "Honda                   0\n",
       "Hyundai                 0\n",
       "Toyota                  0\n",
       "Ford                    0\n",
       "Renault                 0\n",
       "Mahindra                0\n",
       "Tata                    0\n",
       "Chevrolet               0\n",
       "Fiat                    0\n",
       "Datsun                  0\n",
       "Jeep                    0\n",
       "Mercedes-Benz           0\n",
       "Mitsubishi              0\n",
       "Audi                    0\n",
       "Volkswagen              0\n",
       "BMW                     0\n",
       "Nissan                  0\n",
       "Lexus                   0\n",
       "Jaguar                  0\n",
       "Land                    0\n",
       "MG                      0\n",
       "Volvo                   0\n",
       "Daewoo                  0\n",
       "Kia                     0\n",
       "Force                   0\n",
       "Ambassador              0\n",
       "Ashok                   0\n",
       "Isuzu                   0\n",
       "Opel                    0\n",
       "year                    0\n",
       "selling_price           0\n",
       "km_driven               0\n",
       "Diesel                  0\n",
       "Individual              0\n",
       "Dealer                  0\n",
       "Manual                  0\n",
       "First Owner             0\n",
       "Second Owner            0\n",
       "Third Owner             0\n",
       "Fourth & Above Owner    0\n",
       "milage                  0\n",
       "engine                  0\n",
       "max_power               0\n",
       "torque                  0\n",
       "RPM_min                 0\n",
       "seats                   0\n",
       "dtype: int64"
      ]
     },
     "execution_count": 3,
     "metadata": {},
     "output_type": "execute_result"
    }
   ],
   "source": [
    "data_no_nans = data.copy()\n",
    "data_no_nans = data_no_nans.dropna()\n",
    "data_no_nans.isna().sum()"
   ]
  },
  {
   "cell_type": "code",
   "execution_count": 4,
   "id": "f72ef5cd-b6c3-4e79-b7af-ed3cc716ba45",
   "metadata": {},
   "outputs": [
    {
     "ename": "NameError",
     "evalue": "name 'scaller' is not defined",
     "output_type": "error",
     "traceback": [
      "\u001b[0;31m---------------------------------------------------------------------------\u001b[0m",
      "\u001b[0;31mNameError\u001b[0m                                 Traceback (most recent call last)",
      "\u001b[0;32m/var/folders/89/c39tn_cx25586jyr8wj3xkz00000gn/T/ipykernel_85266/2595285414.py\u001b[0m in \u001b[0;36m<module>\u001b[0;34m\u001b[0m\n\u001b[1;32m      1\u001b[0m \u001b[0mscaller_x\u001b[0m \u001b[0;34m=\u001b[0m \u001b[0mStandardScaler\u001b[0m\u001b[0;34m(\u001b[0m\u001b[0;34m)\u001b[0m\u001b[0;34m\u001b[0m\u001b[0;34m\u001b[0m\u001b[0m\n\u001b[0;32m----> 2\u001b[0;31m \u001b[0mx\u001b[0m \u001b[0;34m=\u001b[0m \u001b[0mscaller\u001b[0m\u001b[0;34m.\u001b[0m\u001b[0mfit_transform\u001b[0m\u001b[0;34m(\u001b[0m\u001b[0mdata_no_nans\u001b[0m\u001b[0;34m.\u001b[0m\u001b[0mloc\u001b[0m\u001b[0;34m[\u001b[0m\u001b[0;34m:\u001b[0m\u001b[0;34m,\u001b[0m \u001b[0mdata_no_nans\u001b[0m\u001b[0;34m.\u001b[0m\u001b[0mcolumns\u001b[0m \u001b[0;34m!=\u001b[0m \u001b[0;34m'selling_price'\u001b[0m\u001b[0;34m]\u001b[0m\u001b[0;34m)\u001b[0m\u001b[0;34m\u001b[0m\u001b[0;34m\u001b[0m\u001b[0m\n\u001b[0m",
      "\u001b[0;31mNameError\u001b[0m: name 'scaller' is not defined"
     ]
    }
   ],
   "source": [
    "scaller_x = StandardScaler()\n",
    "x = scaller.fit_transform(data_no_nans.loc[:, data_no_nans.columns != 'selling_price'])"
   ]
  },
  {
   "cell_type": "code",
   "execution_count": null,
   "id": "8639019b-fbdb-4ab0-9335-6ebfb3089b9d",
   "metadata": {},
   "outputs": [],
   "source": [
    "scaller."
   ]
  },
  {
   "cell_type": "code",
   "execution_count": null,
   "id": "44621d4f-92bc-4f0d-8bb7-1838fc5ded7c",
   "metadata": {},
   "outputs": [],
   "source": [
    "scaller_x = StandardScaler()\n",
    "x = scaller.fit_transform(data_no_nans.loc[:, data_no_nans.columns != 'selling_price'])\n",
    "\n",
    "y = scaller.fit_transform(data_no_nans['selling_price'].to_numpy())"
   ]
  },
  {
   "cell_type": "code",
   "execution_count": null,
   "id": "2b3f67ea-9a5e-40f1-9140-1c82d0563f57",
   "metadata": {},
   "outputs": [],
   "source": [
    "data_scld = pd.DataFrame(data=np.hstack((y, x)), columns=['selling_price'] + list())"
   ]
  },
  {
   "cell_type": "markdown",
   "id": "9a495c5a",
   "metadata": {},
   "source": [
    "**ВЫДЕЛИМ ТРЕНИРОВОЧНЫЕ И ТЕСТОВЫЕ МАССИВЫ**"
   ]
  },
  {
   "cell_type": "code",
   "execution_count": null,
   "id": "37db135b",
   "metadata": {},
   "outputs": [],
   "source": [
    "train_data_no_nans = data_no_nans.sample(frac=0.8)\n",
    "test_data_no_nans = data_no_nans.iloc[~data_no_nans.index.isin(train_data_no_nans.index), :]"
   ]
  },
  {
   "cell_type": "code",
   "execution_count": null,
   "id": "c28345b5",
   "metadata": {},
   "outputs": [],
   "source": [
    "features_train = train_data_no_nans.iloc[:, train_data_no_nans.columns != 'selling_price']\n",
    "responses_train = train_data_no_nans['selling_price'].to_frame(name='selling_price')\n",
    "features_test = test_data_no_nans.iloc[:, test_data_no_nans.columns != 'selling_price']\n",
    "responses_test = test_data_no_nans['selling_price'].to_frame(name='selling_price')"
   ]
  },
  {
   "cell_type": "markdown",
   "id": "6ffe9298",
   "metadata": {},
   "source": [
    "**НОРМИРУЕМ ДАННЫЕ**"
   ]
  },
  {
   "cell_type": "code",
   "execution_count": null,
   "id": "1fffb225",
   "metadata": {},
   "outputs": [],
   "source": [
    "scaller = StandardScaler()\n",
    "x_train = scaller.fit_transform(features_train)\n",
    "y_train = responses_train\n",
    "x_test = scaller.fit_transform(features_test)\n",
    "y_test = responses_test"
   ]
  },
  {
   "cell_type": "markdown",
   "id": "1a4aefe2",
   "metadata": {},
   "source": [
    "# **ОБУЧИМ МОДЕЛЬ НА ТЕХ ДАННЫХ, ЧТО ЕСТЬ**"
   ]
  },
  {
   "cell_type": "markdown",
   "id": "78d90451",
   "metadata": {},
   "source": [
    "**ОБУЧИМ МОДЕЛЬ С ЛИНЕАРИЗАЦИЕЙ КОЭФФИЦИЕНТОВ L1 LASSO**"
   ]
  },
  {
   "cell_type": "code",
   "execution_count": null,
   "id": "42bb2f37",
   "metadata": {},
   "outputs": [],
   "source": [
    "l1_regr = Lasso(1e-5, max_iter=10 ** 4)\n",
    "l1_regr.fit(x_train, y_train)\n",
    "l1_regr.score(x_train, y_train)"
   ]
  },
  {
   "cell_type": "code",
   "execution_count": null,
   "id": "4e415527",
   "metadata": {},
   "outputs": [],
   "source": [
    "l1_regr.coef_"
   ]
  },
  {
   "cell_type": "code",
   "execution_count": null,
   "id": "b734bb80",
   "metadata": {},
   "outputs": [],
   "source": [
    "l1_regr.score(x_test, y_test)"
   ]
  },
  {
   "cell_type": "markdown",
   "id": "91c96e24",
   "metadata": {},
   "source": [
    "**КАК ВИДНО НА ТЕСТОВОЙ ВЫБОРКЕ РЕЗУЛЬТАТ ДАЖЕ ЛУЧШЕ.**"
   ]
  },
  {
   "cell_type": "markdown",
   "id": "ee96364d",
   "metadata": {},
   "source": [
    "**МФ ПОЛУЧИЛИ РЕЗУЛЬТАТ ПО МЕТРИКЕ R2**"
   ]
  },
  {
   "cell_type": "markdown",
   "id": "bbd90d0b",
   "metadata": {},
   "source": [
    "**ПОПРОБУЕМ ОЦЕНИТЬ С ПОМОЩЬЮ МЕТРИКИ MAE**"
   ]
  },
  {
   "cell_type": "code",
   "execution_count": null,
   "id": "186815f3",
   "metadata": {},
   "outputs": [],
   "source": [
    "y_train_predict = l1_regr.predict(x_train)\n",
    "y_test_predict = l1_regr.predict(x_test)\n",
    "loss_train = mean_absolute_error(y_train, y_train_predict)\n",
    "loss_test = mean_absolute_error(y_test, y_test_predict)"
   ]
  },
  {
   "cell_type": "code",
   "execution_count": null,
   "id": "4ec39e68",
   "metadata": {},
   "outputs": [],
   "source": [
    "print(loss_train)\n",
    "print(loss_test)"
   ]
  },
  {
   "cell_type": "markdown",
   "id": "4c4c9d68",
   "metadata": {},
   "source": [
    "**ПОСМОТРИМ СКОЛЬКО ЭТО В ДЕНЕЖНОМ ЭКВИВАЛЕНТЕ С ПОМОЩЬЮ ИНВЕРСИИ НОРМАЛИЗАЦИИ**"
   ]
  },
  {
   "cell_type": "raw",
   "id": "9013bf0b-408e-495c-8bd5-def78f332fe2",
   "metadata": {},
   "source": [
    "print(scaller.inverse_transform([[loss_train]]))\n",
    "print(scaller.inverse_transform([[loss_test]]))"
   ]
  },
  {
   "cell_type": "markdown",
   "id": "1791c85a",
   "metadata": {},
   "source": [
    "**ОЦЕНИМ С ПОМОЩЬЮ МЕТРИКИ MAPE**"
   ]
  },
  {
   "cell_type": "code",
   "execution_count": null,
   "id": "24fb4f6a",
   "metadata": {},
   "outputs": [],
   "source": [
    "loss_train_mape = mean_absolute_percentage_error(y_train, y_train_predict)\n",
    "loss_test_mape = mean_absolute_percentage_error(y_test, y_test_predict)"
   ]
  },
  {
   "cell_type": "code",
   "execution_count": null,
   "id": "821fb775",
   "metadata": {},
   "outputs": [],
   "source": [
    "print(loss_train_mape)\n",
    "print(loss_test_mape)"
   ]
  },
  {
   "cell_type": "markdown",
   "id": "c72a5483",
   "metadata": {},
   "source": [
    "**ОПЯТЬ ЗАМЕЧАЕМ, ЧТО НА ТЕСТОВЫХ ДАННЫХ РЕЗУЛЬТАТ ЛУЧШЕ**"
   ]
  },
  {
   "cell_type": "markdown",
   "id": "1389fc52",
   "metadata": {},
   "source": [
    "# **ДОБАВИМ ПОЛИНОМ 9 СТЕПЕНИ ПО ПРИЗНАКАМ ТИП ТОПЛИВА И ОБЬЕМ ДВИГАТЕЛЯ**"
   ]
  },
  {
   "cell_type": "markdown",
   "id": "25842670",
   "metadata": {},
   "source": [
    "**В РЕЗУЛЬТАТЕ АНАЛИЗА ДАННЫХ (ФАЙЛ processing_nes.ipynb) МЫ ВЫЯСНИЛИ, ЧТО ОБЬЕМ ДВИГАТЕЛЯ НАХОДИТСЯ В НЕКОТОРОЙ КОРЕЛЯЦИИ ОТ ТИПА ТОПЛИВА. ПОСТРОИВ ПОЛИНОМИАЛЬНУЮ МОДЕЛЬ, ОБУЧИВ ЕЕ И ПОСЧИТАВ ПОТЕРИ С КРОСС ВАЛИДАЦИЕЙ МЫ ПОНЯЛИ, ЧТО ДЛЯ ДВУХ ЭТИХ ДВУХ ПРИЗНАКОВ С ПОЛИНОМОМ СТЕПЕНЬЮ 9 (ФАЙЛ analyse.ipynb) МЫ МОЖЕМ УЛУЧШИТЬ МОДЕЛЬ. ПОПРОБУЕМ ЕЕ УЛУЧШИТЬ ДОБАВИВ ЭТИ ПРИЗНАКИ**"
   ]
  },
  {
   "cell_type": "markdown",
   "id": "bc6f32b6",
   "metadata": {},
   "source": [
    "**ВОЗЬМЕМ ФРЕЙМ БЕЗ НАНОВ И СКАЛЯРИЗУЕМ**"
   ]
  },
  {
   "cell_type": "code",
   "execution_count": null,
   "id": "fa9f7410",
   "metadata": {},
   "outputs": [],
   "source": [
    "scaller_poly = StandardScaler()\n",
    "x_poly = scaller_poly.fit_transform(data_no_nans[data_no_nans.columns.drop('selling_price')])\n",
    "y_poly = scaller_poly.fit_transform(data_no_nans[['selling_price']])"
   ]
  },
  {
   "cell_type": "code",
   "execution_count": null,
   "id": "8536e47d",
   "metadata": {},
   "outputs": [],
   "source": [
    "scaled_df = pd.DataFrame(data=np.hstack((y_poly, x_poly)), columns=['selling_price'] + list(data_no_nans.columns.drop('selling_price')))\n",
    "scaled_df"
   ]
  },
  {
   "cell_type": "markdown",
   "id": "8e056943",
   "metadata": {},
   "source": [
    "**СОЗДАДИМ ПОЛИНОМ 9Й СТЕПЕНИ ДЛЯ ДВИГАТЕЛЯ И ДИЗЕЛЯ**"
   ]
  },
  {
   "cell_type": "code",
   "execution_count": null,
   "id": "d79b1a0c",
   "metadata": {},
   "outputs": [],
   "source": [
    "poly_obj = PolynomialFeatures(7)\n",
    "engine_diesel_poly = poly_obj.fit_transform(scaled_df[['Diesel', 'engine']])\n",
    "engine_diesel_poly.shape"
   ]
  },
  {
   "cell_type": "markdown",
   "id": "25b7f2a8",
   "metadata": {},
   "source": [
    "**УБЕРЕМ ПЕРВЫЕ ТРИ СТОЛБЦА, ПЕРВЫЙ ПОТОМУ ЧТО ЕДИНИЧНЫЙ ДЛЯ СВОБОНОГО ВЕСА, ВТОРЫЕ ДВА ПОТОМУ ЧТО ПОВТОРЕНИЕ ТЕХ, ЧТО УЖЕ ЕСТЬ В ДАТАСЕТЕ, ЗАПИШЕМ ВО ФРЕЙМ**"
   ]
  },
  {
   "cell_type": "code",
   "execution_count": null,
   "id": "fa873f76",
   "metadata": {},
   "outputs": [],
   "source": [
    "engine_diesel_poly_df = pd.DataFrame(data=engine_diesel_poly[:, 3:], columns=[f'Dies*Engine{i + 1}' for i in range(engine_diesel_poly.shape[1] - 3)])"
   ]
  },
  {
   "cell_type": "markdown",
   "id": "42c152e0",
   "metadata": {},
   "source": [
    "**СОБЕРЕМ ПОЛИНОМ С ДАТАСЕТОМ**"
   ]
  },
  {
   "cell_type": "code",
   "execution_count": null,
   "id": "e0af8b15",
   "metadata": {},
   "outputs": [],
   "source": [
    "poly_prepared = pd.concat([scaled_df, engine_diesel_poly_df], axis=1)"
   ]
  },
  {
   "cell_type": "markdown",
   "id": "f15df503",
   "metadata": {},
   "source": [
    "**РАЗДЕЛИМ ВЕСЬ СКАЛЯРИЗОВАННЫЙ ДАТАСЕТ НА ТРЕНИРОВОЧНЫЙ И ТЕСТОВЫЙ**"
   ]
  },
  {
   "cell_type": "code",
   "execution_count": null,
   "id": "e48bdaf7",
   "metadata": {},
   "outputs": [],
   "source": [
    "poly_prepared_train = poly_prepared.sample(frac=0.8, random_state=0).sort_index()\n",
    "poly_prepared_test = poly_prepared.iloc[~scaled_df.index.isin(poly_prepared_train.index)].sort_index()"
   ]
  },
  {
   "cell_type": "markdown",
   "id": "21dd991d",
   "metadata": {},
   "source": [
    "**НАЧНЕМ ОБУЧАТЬ МОДЕЛЬ С L1/L2 НА ТРЕНИРОВОЧНОМ ДАТАСЕТЕ**"
   ]
  },
  {
   "cell_type": "code",
   "execution_count": null,
   "id": "b01adecc",
   "metadata": {},
   "outputs": [],
   "source": [
    "regr_poly = Ridge(alpha=0.0001, max_iter=10 ** 4)\n",
    "regr_poly.fit(poly_prepared_train.iloc[:, 1:], poly_prepared_train.iloc[:, 0])"
   ]
  },
  {
   "cell_type": "code",
   "execution_count": null,
   "id": "bcf28936",
   "metadata": {},
   "outputs": [],
   "source": [
    "regr_poly.coef_"
   ]
  },
  {
   "cell_type": "markdown",
   "id": "ea45502b",
   "metadata": {},
   "source": [
    "**ОЦЕНИМ ПОТЕРИ ПО МЕТРИКЕ MAE**"
   ]
  },
  {
   "cell_type": "code",
   "execution_count": null,
   "id": "6bbf212e",
   "metadata": {},
   "outputs": [],
   "source": [
    "y_train_predict = regr_poly.predict(poly_prepared_train.iloc[:, 1:])\n",
    "y_test_predict = regr_poly.predict(poly_prepared_test.iloc[:, 1:])\n",
    "loss_train = mean_absolute_error(poly_prepared_train.iloc[:, 0], y_train_predict)\n",
    "loss_test = mean_absolute_error(poly_prepared_test.iloc[:, 0], y_test_predict)"
   ]
  },
  {
   "cell_type": "code",
   "execution_count": null,
   "id": "9ecba7cd",
   "metadata": {},
   "outputs": [],
   "source": [
    "print(loss_train)\n",
    "print(loss_test)"
   ]
  },
  {
   "cell_type": "code",
   "execution_count": null,
   "id": "a66821e1",
   "metadata": {},
   "outputs": [],
   "source": [
    "print(scaller_poly.inverse_transform([[loss_train]]))\n",
    "print(scaller_poly.inverse_transform([[loss_test]]))"
   ]
  },
  {
   "cell_type": "markdown",
   "id": "5954cc46",
   "metadata": {},
   "source": [
    "**ОЦЕНИМ ПОТЕРИ ПО МЕТРИКЕ MAPE**"
   ]
  },
  {
   "cell_type": "code",
   "execution_count": null,
   "id": "d05166ac",
   "metadata": {},
   "outputs": [],
   "source": [
    "loss_train_mape = mean_absolute_percentage_error(poly_prepared_train.iloc[:, 0], y_train_predict)\n",
    "loss_test_mape = mean_absolute_percentage_error(poly_prepared_test.iloc[:, 0], y_test_predict)\n",
    "print(loss_train_mape)\n",
    "print(loss_test_mape)"
   ]
  },
  {
   "cell_type": "markdown",
   "id": "c5abd067",
   "metadata": {},
   "source": [
    "**КАК ВИДНО РЕЗУЛЬТАТЫ ЧУУУУУУУТЬ ЧУТЬ УЛУЧШИЛИСЬ, ПОПРОБУЕМ ЕЩЕ УЛУЧШИТЬ МОДЕЛЬ**"
   ]
  },
  {
   "cell_type": "markdown",
   "id": "d61eee79",
   "metadata": {},
   "source": [
    "# **МОЩНОСТЬ, ТИП ДВИГАТЕЛЯ И КРУТЯЩИЙ МОМЕНТ**"
   ]
  },
  {
   "cell_type": "code",
   "execution_count": null,
   "id": "5523c23a",
   "metadata": {},
   "outputs": [],
   "source": [
    "data = pd.read_csv('processed_df.csv')\n",
    "data = data.dropna()"
   ]
  },
  {
   "cell_type": "markdown",
   "id": "cfe0faa4",
   "metadata": {},
   "source": [
    "**ВИДЕЛИМ ПРИЗНАКИ И ОТКЛИКИ**"
   ]
  },
  {
   "cell_type": "code",
   "execution_count": null,
   "id": "45286d84",
   "metadata": {},
   "outputs": [],
   "source": [
    "x = data.loc[:, data.columns != 'selling_price']\n",
    "y = data[['selling_price']]"
   ]
  },
  {
   "cell_type": "markdown",
   "id": "337f2e46",
   "metadata": {},
   "source": [
    "**СКАЛЯРИЗУЕМ ПРИЗНАКИ И ОТКЛИКИ**"
   ]
  },
  {
   "cell_type": "code",
   "execution_count": null,
   "id": "9082566a",
   "metadata": {},
   "outputs": [],
   "source": [
    "scall = StandardScaler()\n",
    "x_scld = scall.fit_transform(x)\n",
    "y_scld = scall.fit_transform(y)"
   ]
  },
  {
   "cell_type": "code",
   "execution_count": null,
   "id": "84647f1a",
   "metadata": {},
   "outputs": [],
   "source": [
    "features_df = pd.DataFrame(data=x_scld, columns=x.columns)"
   ]
  },
  {
   "cell_type": "markdown",
   "id": "dc4e4be9",
   "metadata": {},
   "source": [
    "**СОЗДАДИМ ПОЛИНОМ 3Й СТЕПЕНИ ПО ТИПУ ТОПЛИВА, МОЩНОСТИ И КРУТЯЩЕМУ МОМЕНТУ**"
   ]
  },
  {
   "cell_type": "code",
   "execution_count": null,
   "id": "6062d975",
   "metadata": {},
   "outputs": [],
   "source": [
    "poly3 = PolynomialFeatures(3)\n",
    "x_poly = poly3.fit_transform(features_df.loc[:, ['Diesel', 'max_power', 'torque']])[:, 4:]"
   ]
  },
  {
   "cell_type": "markdown",
   "id": "a9932610",
   "metadata": {},
   "source": [
    "**СОЗДАДИМ ОБЩИЙ ФРЕЙМ ПРИЗНАКОВ**"
   ]
  },
  {
   "cell_type": "code",
   "execution_count": null,
   "id": "68af5730",
   "metadata": {},
   "outputs": [],
   "source": [
    "poly_df = pd.DataFrame(data=x_poly, columns=[f'Dies*Pow*Tor{i + 1}' for i in range(x_poly.shape[1])])\n",
    "resp_df = pd.DataFrame(data=y_scld, columns=['selling_price'])"
   ]
  },
  {
   "cell_type": "code",
   "execution_count": null,
   "id": "bcb80663",
   "metadata": {},
   "outputs": [],
   "source": [
    "poly_df = pd.concat([resp_df, features_df, poly_df], axis=1)"
   ]
  },
  {
   "cell_type": "markdown",
   "id": "123c9356",
   "metadata": {},
   "source": [
    "**ВЫДЕЛИМ ТРЕНИРОВОЧНЫЙ И ТЕСТОВЫЙ ДАТАСЕТЫ**"
   ]
  },
  {
   "cell_type": "code",
   "execution_count": null,
   "id": "15fc1e17",
   "metadata": {},
   "outputs": [],
   "source": [
    "train = poly_df.sample(frac=0.8, random_state=0)\n",
    "test = poly_df.iloc[~poly_df.index.isin(train.index), :]"
   ]
  },
  {
   "cell_type": "markdown",
   "id": "ff4164b2",
   "metadata": {},
   "source": [
    "**ПОПРОБУЕМ ОБУЧИТЬ МОДЕЛЬ С L1 И ПОСМОТРИМ НА РЕЗУЛЬТАТ РАЗНЫМИ МЕТРИКАМИ**"
   ]
  },
  {
   "cell_type": "code",
   "execution_count": null,
   "id": "ff636ea4",
   "metadata": {},
   "outputs": [],
   "source": [
    "lin_regr = Ridge(alpha=0.000001, max_iter=10000)\n",
    "lin_regr.fit(train.loc[:, train.columns != 'selling_price'], train['selling_price'])"
   ]
  },
  {
   "cell_type": "code",
   "execution_count": null,
   "id": "1c9c8742",
   "metadata": {},
   "outputs": [],
   "source": [
    "lin_regr.coef_"
   ]
  },
  {
   "cell_type": "code",
   "execution_count": null,
   "id": "d54744e9",
   "metadata": {},
   "outputs": [],
   "source": [
    "y_predict_train = lin_regr.predict(train.loc[:, train.columns != 'selling_price'])\n",
    "y_predict_test = lin_regr.predict(test.loc[:, test.columns != 'selling_price'])\n",
    "mae_train = mean_absolute_error(train['selling_price'], y_predict_train)\n",
    "mae_test = mean_absolute_error(test['selling_price'], y_predict_test)"
   ]
  },
  {
   "cell_type": "code",
   "execution_count": null,
   "id": "4fc78e38",
   "metadata": {},
   "outputs": [],
   "source": [
    "print(mae_train)\n",
    "print(mae_test)"
   ]
  },
  {
   "cell_type": "code",
   "execution_count": null,
   "id": "aa1cf44b",
   "metadata": {},
   "outputs": [],
   "source": [
    "print(scall.inverse_transform([[mae_train]]))\n",
    "print(scall.inverse_transform([[mae_test]]))"
   ]
  },
  {
   "cell_type": "code",
   "execution_count": null,
   "id": "68a02a06",
   "metadata": {},
   "outputs": [],
   "source": []
  }
 ],
 "metadata": {
  "kernelspec": {
   "display_name": "Python 3 (ipykernel)",
   "language": "python",
   "name": "python3"
  },
  "language_info": {
   "codemirror_mode": {
    "name": "ipython",
    "version": 3
   },
   "file_extension": ".py",
   "mimetype": "text/x-python",
   "name": "python",
   "nbconvert_exporter": "python",
   "pygments_lexer": "ipython3",
   "version": "3.9.13"
  }
 },
 "nbformat": 4,
 "nbformat_minor": 5
}
