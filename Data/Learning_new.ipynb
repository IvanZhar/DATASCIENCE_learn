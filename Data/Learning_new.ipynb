{
 "cells": [
  {
   "cell_type": "code",
   "execution_count": 1,
   "id": "a02191f6-ecf9-4af1-9dbb-b213baf00a87",
   "metadata": {},
   "outputs": [],
   "source": [
    "import numpy as np\n",
    "import pandas as pd\n",
    "from sklearn.linear_model import LinearRegression, Lasso, Ridge\n",
    "from sklearn.preprocessing import StandardScaler, PolynomialFeatures\n",
    "from sklearn.model_selection import cross_validate\n",
    "import re\n",
    "import plotly.graph_objects as go\n",
    "import plotly.express as px\n",
    "from sklearn.preprocessing import OneHotEncoder\n",
    "import re\n",
    "from sklearn.metrics import mean_absolute_error, mean_absolute_percentage_error"
   ]
  },
  {
   "cell_type": "code",
   "execution_count": 2,
   "id": "6cff09e8-c622-48d7-8e27-c674cbd0787b",
   "metadata": {},
   "outputs": [],
   "source": [
    "data = pd.read_csv('processed_df.csv')"
   ]
  },
  {
   "cell_type": "code",
   "execution_count": 3,
   "id": "6ba8610e-6407-4dd9-8e0a-bee93de3db11",
   "metadata": {},
   "outputs": [],
   "source": [
    "data = data.iloc[:, 1:].dropna()"
   ]
  },
  {
   "cell_type": "code",
   "execution_count": 4,
   "id": "5abf61d8-a9fd-4a35-a799-0ff9f624d025",
   "metadata": {},
   "outputs": [],
   "source": [
    "feature = data.iloc[:, data.columns != 'selling_price']\n",
    "y = data[['selling_price']]"
   ]
  },
  {
   "cell_type": "code",
   "execution_count": 5,
   "id": "d4f87ea9-5cd6-4e58-a2a1-bb5d42489d11",
   "metadata": {},
   "outputs": [
    {
     "data": {
      "text/plain": [
       "(7846, 1176)"
      ]
     },
     "execution_count": 5,
     "metadata": {},
     "output_type": "execute_result"
    }
   ],
   "source": [
    "polynom = PolynomialFeatures(2)\n",
    "features_poly = polynom.fit_transform(feature)\n",
    "features_poly.shape"
   ]
  },
  {
   "cell_type": "code",
   "execution_count": 6,
   "id": "e9547dfb-74b8-44a4-8a29-97fb243cbf17",
   "metadata": {},
   "outputs": [],
   "source": [
    "data_poly = pd.DataFrame(data=np.hstack((y.to_numpy(), features_poly)))"
   ]
  },
  {
   "cell_type": "code",
   "execution_count": 7,
   "id": "d8df1063-f5c7-4f0e-833a-f2f14d8fa893",
   "metadata": {},
   "outputs": [],
   "source": [
    "train = data_poly.sample(frac=0.8, random_state=0)\n",
    "test = data_poly.loc[~data_poly.index.isin(train.index)]"
   ]
  },
  {
   "cell_type": "code",
   "execution_count": 8,
   "id": "785573b8-2365-4ef4-a151-126b94a99cd8",
   "metadata": {},
   "outputs": [],
   "source": [
    "scaller_x = StandardScaler()\n",
    "x_scld_train = scaller_x.fit_transform(train.iloc[:, 1:])\n",
    "x_scld_test = scaller_x.transform(test.iloc[:, 1:])"
   ]
  },
  {
   "cell_type": "code",
   "execution_count": 9,
   "id": "c94fd400-93ec-43dc-9d28-3eb1968a26da",
   "metadata": {},
   "outputs": [],
   "source": [
    "scaller_y = StandardScaler()\n",
    "y_scld_train = scaller_y.fit_transform(train.iloc[:, [0]])\n",
    "y_scld_test = scaller_y.transform(test.iloc[:, [0]])"
   ]
  },
  {
   "cell_type": "code",
   "execution_count": 10,
   "id": "8fbeff02-44d8-4291-933b-9e260dab5e09",
   "metadata": {},
   "outputs": [
    {
     "data": {
      "text/plain": [
       "Lasso(alpha=0.5)"
      ]
     },
     "execution_count": 10,
     "metadata": {},
     "output_type": "execute_result"
    }
   ],
   "source": [
    "regr_l1 = Lasso(alpha=0.5)\n",
    "regr_l1.fit(x_scld_train, y_scld_train)"
   ]
  },
  {
   "cell_type": "code",
   "execution_count": 11,
   "id": "19219757-0ad5-4e5c-b195-44f9bcd468a3",
   "metadata": {},
   "outputs": [
    {
     "data": {
      "text/plain": [
       "array([ 0., -0., -0., ..., -0., -0.,  0.])"
      ]
     },
     "execution_count": 11,
     "metadata": {},
     "output_type": "execute_result"
    }
   ],
   "source": [
    "regr_l1.coef_"
   ]
  },
  {
   "cell_type": "code",
   "execution_count": 12,
   "id": "ed91f00a-8e57-43e1-b8cb-c40e982504dd",
   "metadata": {},
   "outputs": [],
   "source": [
    "y_predict_train = regr_l1.predict(x_scld_train)\n",
    "y_predict_test = regr_l1.predict(x_scld_test)\n",
    "mae_train = mean_absolute_error(y_scld_train, y_predict_train)\n",
    "mae_test = mean_absolute_error(y_scld_test, y_predict_test)"
   ]
  },
  {
   "cell_type": "code",
   "execution_count": 13,
   "id": "d28cec29-8bb7-4b4c-9c19-5af7f34a248a",
   "metadata": {},
   "outputs": [
    {
     "name": "stdout",
     "output_type": "stream",
     "text": [
      "[[967529.4322797]]\n",
      "[[952962.41776243]]\n"
     ]
    }
   ],
   "source": [
    "print(scaller_y.inverse_transform([[mae_train]]))\n",
    "print(scaller_y.inverse_transform([[mae_test]]))"
   ]
  },
  {
   "cell_type": "code",
   "execution_count": 14,
   "id": "aeb66945-8a63-48fb-907a-186dffd5b1f0",
   "metadata": {},
   "outputs": [
    {
     "data": {
      "text/plain": [
       "637203.7058373693"
      ]
     },
     "execution_count": 14,
     "metadata": {},
     "output_type": "execute_result"
    }
   ],
   "source": [
    "data['selling_price'].mean()"
   ]
  }
 ],
 "metadata": {
  "kernelspec": {
   "display_name": "Python 3 (ipykernel)",
   "language": "python",
   "name": "python3"
  },
  "language_info": {
   "codemirror_mode": {
    "name": "ipython",
    "version": 3
   },
   "file_extension": ".py",
   "mimetype": "text/x-python",
   "name": "python",
   "nbconvert_exporter": "python",
   "pygments_lexer": "ipython3",
   "version": "3.9.13"
  }
 },
 "nbformat": 4,
 "nbformat_minor": 5
}
