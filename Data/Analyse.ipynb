{
 "cells": [
  {
   "cell_type": "code",
   "execution_count": 1,
   "metadata": {},
   "outputs": [],
   "source": [
    "import numpy as np\n",
    "import pandas as pd\n",
    "from sklearn.linear_model import LinearRegression\n",
    "from sklearn.preprocessing import StandardScaler\n",
    "from sklearn.model_selection import cross_validate\n",
    "import re\n",
    "import plotly.graph_objects as go\n",
    "import plotly.express as px\n",
    "from sklearn.preprocessing import OneHotEncoder\n",
    "from sklearn.preprocessing import StandardScaler, PolynomialFeatures\n",
    "from sklearn.metrics import mean_absolute_percentage_error\n",
    "import plotly.graph_objects as go"
   ]
  },
  {
   "cell_type": "markdown",
   "metadata": {},
   "source": [
    "# **ТИП ТОПЛИВА И ОБЬЕМ ДВИГАТЕЛЯ. ЛИНЕЙНАЯ МОДЕЛЬ**"
   ]
  },
  {
   "cell_type": "code",
   "execution_count": 2,
   "metadata": {},
   "outputs": [],
   "source": [
    "processed_df = pd.read_csv('processed_df.csv')"
   ]
  },
  {
   "cell_type": "code",
   "execution_count": 3,
   "metadata": {},
   "outputs": [
    {
     "data": {
      "text/plain": [
       "Index(['Maruti', 'Skoda', 'Honda', 'Hyundai', 'Toyota', 'Ford', 'Renault',\n",
       "       'Mahindra', 'Tata', 'Chevrolet', 'Fiat', 'Datsun', 'Jeep',\n",
       "       'Mercedes-Benz', 'Mitsubishi', 'Audi', 'Volkswagen', 'BMW', 'Nissan',\n",
       "       'Lexus', 'Jaguar', 'Land', 'MG', 'Volvo', 'Daewoo', 'Kia', 'Force',\n",
       "       'Ambassador', 'Ashok', 'Isuzu', 'Opel', 'year', 'selling_price',\n",
       "       'km_driven', 'Diesel', 'Individual', 'Dealer', 'Manual', 'First Owner',\n",
       "       'Second Owner', 'Third Owner', 'Fourth & Above Owner', 'milage',\n",
       "       'engine', 'max_power', 'torque', 'RPM_min', 'seats'],\n",
       "      dtype='object')"
      ]
     },
     "execution_count": 3,
     "metadata": {},
     "output_type": "execute_result"
    }
   ],
   "source": [
    "processed_df.columns"
   ]
  },
  {
   "cell_type": "markdown",
   "metadata": {},
   "source": [
    "**ВЫБОР ДВУХ ПРИЗНАКОВ- ТИП ТОПЛИВА И ОБЬЕМ ДВИГАТЕЛЯ**"
   ]
  },
  {
   "cell_type": "code",
   "execution_count": 4,
   "metadata": {},
   "outputs": [],
   "source": [
    "processed_df = processed_df.loc[:, ['Diesel', 'engine', 'selling_price']].dropna()"
   ]
  },
  {
   "cell_type": "markdown",
   "metadata": {},
   "source": [
    "**НОРМАЛИЗУЕМ ПРИЗНАКИ ПО СРЕДСТВАМ SNADART SCALLER**"
   ]
  },
  {
   "cell_type": "code",
   "execution_count": 5,
   "metadata": {},
   "outputs": [],
   "source": [
    "scaler = StandardScaler()\n",
    "x = scaler.fit_transform(processed_df.loc[:, ['Diesel', 'engine']])\n",
    "y = processed_df['selling_price']"
   ]
  },
  {
   "cell_type": "markdown",
   "metadata": {},
   "source": [
    "**ДЛЯ НАЧАЛА ПОПРОБУЕМ ОБУЧИТЬ НА ПРИМЕРЕ ОДНОЙ СТЕПЕНИ ПОЛИНОМА**"
   ]
  },
  {
   "cell_type": "code",
   "execution_count": 6,
   "metadata": {},
   "outputs": [
    {
     "data": {
      "text/plain": [
       "array([[ 1.        ,  0.90175469, -0.42334643,  0.81316153, -0.38175463,\n",
       "         0.1792222 ],\n",
       "       [ 1.        ,  0.90175469,  0.07346712,  0.81316153,  0.06624932,\n",
       "         0.00539742],\n",
       "       [ 1.        , -1.10894904,  0.07147987,  1.22976797, -0.07926753,\n",
       "         0.00510937],\n",
       "       ...,\n",
       "       [ 1.        ,  0.90175469, -0.42334643,  0.81316153, -0.38175463,\n",
       "         0.1792222 ],\n",
       "       [ 1.        ,  0.90175469, -0.12923281,  0.81316153, -0.11653629,\n",
       "         0.01670112],\n",
       "       [ 1.        ,  0.90175469, -0.12923281,  0.81316153, -0.11653629,\n",
       "         0.01670112]])"
      ]
     },
     "execution_count": 6,
     "metadata": {},
     "output_type": "execute_result"
    }
   ],
   "source": [
    "poly = PolynomialFeatures(2)\n",
    "x_poly = poly.fit_transform(x)\n",
    "x_poly"
   ]
  },
  {
   "cell_type": "code",
   "execution_count": 7,
   "metadata": {},
   "outputs": [
    {
     "name": "stdout",
     "output_type": "stream",
     "text": [
      "[-0.91299339 -0.9289455  -0.86285544 -0.96217484 -0.93307167]\n",
      "[-0.91021517 -0.93930558 -0.89954876 -0.9289453  -0.91526563]\n"
     ]
    }
   ],
   "source": [
    "reg_1 = LinearRegression(fit_intercept=False)\n",
    "cv_results = cross_validate(reg_1, x_poly, y, cv=5, return_train_score=True, scoring='neg_mean_absolute_percentage_error')\n",
    "print(cv_results['test_score'])\n",
    "print(cv_results['train_score'])"
   ]
  },
  {
   "cell_type": "markdown",
   "metadata": {},
   "source": [
    "# **TODO:**"
   ]
  },
  {
   "cell_type": "markdown",
   "metadata": {},
   "source": [
    "1. запилить в цикл по степени полинома, можно реализовать вычисление своей функции потерь (smape, mape, mae?)\n",
    "!!! кросс валидация sklearn.model_selection.cross_validate!!!\n",
    "2. пострроить гафики, где х - степень полинома, у - потери (разными метриками)"
   ]
  },
  {
   "cell_type": "markdown",
   "metadata": {},
   "source": [
    "# **ЗАВИСИМОСТЬ СТЕПЕНИ ПОЛИНОМА ОТ ПОТЕРЬ**"
   ]
  },
  {
   "cell_type": "markdown",
   "metadata": {},
   "source": [
    "**1. СОЗДАДИМ СПИСОК СТЕПЕНЕЙ ПОЛИНОМА**"
   ]
  },
  {
   "cell_type": "code",
   "execution_count": 8,
   "metadata": {},
   "outputs": [
    {
     "data": {
      "text/plain": [
       "array([ 1,  2,  3,  4,  5,  6,  7,  8,  9, 10, 11, 12, 13, 14, 15, 16, 17,\n",
       "       18, 19, 20])"
      ]
     },
     "execution_count": 8,
     "metadata": {},
     "output_type": "execute_result"
    }
   ],
   "source": [
    "poly_power = np.arange(1, 21, 1)\n",
    "poly_power"
   ]
  },
  {
   "cell_type": "markdown",
   "metadata": {},
   "source": [
    "**СОЗДАДИМ ДФ В КОТОРЫЙ БУДЕМ ЗАПИСЫВАТЬ РЕЗУЛЬТАТЫ**"
   ]
  },
  {
   "cell_type": "markdown",
   "metadata": {},
   "source": [
    "**ЦИКЛ С ПЕРЕБОРОМ СТЕПЕНЕЙ ПОЛИНОМА. ПОТЕРИ- MAPE**"
   ]
  },
  {
   "cell_type": "code",
   "execution_count": 9,
   "metadata": {},
   "outputs": [
    {
     "data": {
      "text/html": [
       "<div>\n",
       "<style scoped>\n",
       "    .dataframe tbody tr th:only-of-type {\n",
       "        vertical-align: middle;\n",
       "    }\n",
       "\n",
       "    .dataframe tbody tr th {\n",
       "        vertical-align: top;\n",
       "    }\n",
       "\n",
       "    .dataframe thead th {\n",
       "        text-align: right;\n",
       "    }\n",
       "</style>\n",
       "<table border=\"1\" class=\"dataframe\">\n",
       "  <thead>\n",
       "    <tr style=\"text-align: right;\">\n",
       "      <th></th>\n",
       "      <th>poly</th>\n",
       "      <th>loss_train</th>\n",
       "      <th>loss_test</th>\n",
       "    </tr>\n",
       "  </thead>\n",
       "  <tbody>\n",
       "    <tr>\n",
       "      <th>0</th>\n",
       "      <td>1.0</td>\n",
       "      <td>-0.880270</td>\n",
       "      <td>-0.880490</td>\n",
       "    </tr>\n",
       "    <tr>\n",
       "      <th>1</th>\n",
       "      <td>2.0</td>\n",
       "      <td>-0.918656</td>\n",
       "      <td>-0.920008</td>\n",
       "    </tr>\n",
       "    <tr>\n",
       "      <th>2</th>\n",
       "      <td>3.0</td>\n",
       "      <td>-0.888607</td>\n",
       "      <td>-0.889161</td>\n",
       "    </tr>\n",
       "    <tr>\n",
       "      <th>3</th>\n",
       "      <td>4.0</td>\n",
       "      <td>-0.978393</td>\n",
       "      <td>-0.980370</td>\n",
       "    </tr>\n",
       "    <tr>\n",
       "      <th>4</th>\n",
       "      <td>5.0</td>\n",
       "      <td>-0.896167</td>\n",
       "      <td>-0.898502</td>\n",
       "    </tr>\n",
       "    <tr>\n",
       "      <th>5</th>\n",
       "      <td>6.0</td>\n",
       "      <td>-0.893544</td>\n",
       "      <td>-0.897627</td>\n",
       "    </tr>\n",
       "    <tr>\n",
       "      <th>6</th>\n",
       "      <td>7.0</td>\n",
       "      <td>-0.806662</td>\n",
       "      <td>-0.811735</td>\n",
       "    </tr>\n",
       "    <tr>\n",
       "      <th>7</th>\n",
       "      <td>8.0</td>\n",
       "      <td>-0.828495</td>\n",
       "      <td>-0.835215</td>\n",
       "    </tr>\n",
       "    <tr>\n",
       "      <th>8</th>\n",
       "      <td>9.0</td>\n",
       "      <td>-0.774560</td>\n",
       "      <td>-0.779498</td>\n",
       "    </tr>\n",
       "    <tr>\n",
       "      <th>9</th>\n",
       "      <td>10.0</td>\n",
       "      <td>-0.768946</td>\n",
       "      <td>-0.794867</td>\n",
       "    </tr>\n",
       "    <tr>\n",
       "      <th>10</th>\n",
       "      <td>11.0</td>\n",
       "      <td>-0.770207</td>\n",
       "      <td>-0.851777</td>\n",
       "    </tr>\n",
       "    <tr>\n",
       "      <th>11</th>\n",
       "      <td>12.0</td>\n",
       "      <td>-0.764190</td>\n",
       "      <td>-0.937837</td>\n",
       "    </tr>\n",
       "    <tr>\n",
       "      <th>12</th>\n",
       "      <td>13.0</td>\n",
       "      <td>-0.769811</td>\n",
       "      <td>-1.578810</td>\n",
       "    </tr>\n",
       "    <tr>\n",
       "      <th>13</th>\n",
       "      <td>14.0</td>\n",
       "      <td>-0.773975</td>\n",
       "      <td>-5.358389</td>\n",
       "    </tr>\n",
       "    <tr>\n",
       "      <th>14</th>\n",
       "      <td>15.0</td>\n",
       "      <td>-0.750147</td>\n",
       "      <td>-2.528934</td>\n",
       "    </tr>\n",
       "    <tr>\n",
       "      <th>15</th>\n",
       "      <td>16.0</td>\n",
       "      <td>-0.698657</td>\n",
       "      <td>-124.257580</td>\n",
       "    </tr>\n",
       "    <tr>\n",
       "      <th>16</th>\n",
       "      <td>17.0</td>\n",
       "      <td>-0.697337</td>\n",
       "      <td>-450.340871</td>\n",
       "    </tr>\n",
       "    <tr>\n",
       "      <th>17</th>\n",
       "      <td>18.0</td>\n",
       "      <td>-0.668209</td>\n",
       "      <td>-382.401482</td>\n",
       "    </tr>\n",
       "    <tr>\n",
       "      <th>18</th>\n",
       "      <td>19.0</td>\n",
       "      <td>-0.656145</td>\n",
       "      <td>-1668.323200</td>\n",
       "    </tr>\n",
       "    <tr>\n",
       "      <th>19</th>\n",
       "      <td>20.0</td>\n",
       "      <td>-0.671594</td>\n",
       "      <td>-32106.231642</td>\n",
       "    </tr>\n",
       "  </tbody>\n",
       "</table>\n",
       "</div>"
      ],
      "text/plain": [
       "    poly  loss_train     loss_test\n",
       "0    1.0   -0.880270     -0.880490\n",
       "1    2.0   -0.918656     -0.920008\n",
       "2    3.0   -0.888607     -0.889161\n",
       "3    4.0   -0.978393     -0.980370\n",
       "4    5.0   -0.896167     -0.898502\n",
       "5    6.0   -0.893544     -0.897627\n",
       "6    7.0   -0.806662     -0.811735\n",
       "7    8.0   -0.828495     -0.835215\n",
       "8    9.0   -0.774560     -0.779498\n",
       "9   10.0   -0.768946     -0.794867\n",
       "10  11.0   -0.770207     -0.851777\n",
       "11  12.0   -0.764190     -0.937837\n",
       "12  13.0   -0.769811     -1.578810\n",
       "13  14.0   -0.773975     -5.358389\n",
       "14  15.0   -0.750147     -2.528934\n",
       "15  16.0   -0.698657   -124.257580\n",
       "16  17.0   -0.697337   -450.340871\n",
       "17  18.0   -0.668209   -382.401482\n",
       "18  19.0   -0.656145  -1668.323200\n",
       "19  20.0   -0.671594 -32106.231642"
      ]
     },
     "execution_count": 9,
     "metadata": {},
     "output_type": "execute_result"
    }
   ],
   "source": [
    "poly_loss_df = pd.DataFrame({'poly': [], 'loss_train': [], 'loss_test': []})\n",
    "for p in poly_power:\n",
    "    # генерация признаков с полиномом степени p\n",
    "    polynom = PolynomialFeatures(p)\n",
    "    x_poly = polynom.fit_transform(x)\n",
    "    # оздание обьекта линейной модели обучения. fit_intercept=False для того, что бы модель не добавляла единичный столбец к матрице признаков для свободного коэффициента w\n",
    "    reg = LinearRegression(fit_intercept=False)\n",
    "    # применяем кросс-валидацию для поиска потерь\n",
    "    cv_results = cross_validate(reg_1, x_poly, y, cv=5, return_train_score=True, scoring='neg_mean_absolute_percentage_error')\n",
    "    # записываем стредние потери для тестовых и тренировочных датасетов в датафрейм\n",
    "    poly_loss_df = poly_loss_df.append({'poly': p, 'loss_train': np.mean(np.array(cv_results['train_score'])), 'loss_test': np.mean(np.array(cv_results['test_score']))}, ignore_index=True)\n",
    "poly_loss_df"
   ]
  },
  {
   "cell_type": "code",
   "execution_count": 10,
   "metadata": {},
   "outputs": [],
   "source": [
    "fig = go.Figure()\n",
    "fig.add_trace(go.Scatter(x=poly_loss_df['poly'], y=poly_loss_df['loss_train'], mode='lines', name='train_score'))\n",
    "fig.add_trace(go.Scatter(x=poly_loss_df['poly'], y=poly_loss_df['loss_test'], mode='lines', name='test_score'))\n",
    "fig.update_layout(width = 1400, height=1000, yaxis_range=[-1, -0.6])\n",
    "fig.write_html('mape_disel_engine.html')"
   ]
  },
  {
   "cell_type": "markdown",
   "metadata": {},
   "source": [
    "**ПОТЕРИ MAE**"
   ]
  },
  {
   "cell_type": "code",
   "execution_count": 11,
   "metadata": {},
   "outputs": [
    {
     "data": {
      "text/html": [
       "<div>\n",
       "<style scoped>\n",
       "    .dataframe tbody tr th:only-of-type {\n",
       "        vertical-align: middle;\n",
       "    }\n",
       "\n",
       "    .dataframe tbody tr th {\n",
       "        vertical-align: top;\n",
       "    }\n",
       "\n",
       "    .dataframe thead th {\n",
       "        text-align: right;\n",
       "    }\n",
       "</style>\n",
       "<table border=\"1\" class=\"dataframe\">\n",
       "  <thead>\n",
       "    <tr style=\"text-align: right;\">\n",
       "      <th></th>\n",
       "      <th>poly</th>\n",
       "      <th>loss_train</th>\n",
       "      <th>loss_test</th>\n",
       "    </tr>\n",
       "  </thead>\n",
       "  <tbody>\n",
       "    <tr>\n",
       "      <th>0</th>\n",
       "      <td>1.0</td>\n",
       "      <td>-373648.649016</td>\n",
       "      <td>-3.738408e+05</td>\n",
       "    </tr>\n",
       "    <tr>\n",
       "      <th>1</th>\n",
       "      <td>2.0</td>\n",
       "      <td>-376762.851774</td>\n",
       "      <td>-3.771661e+05</td>\n",
       "    </tr>\n",
       "    <tr>\n",
       "      <th>2</th>\n",
       "      <td>3.0</td>\n",
       "      <td>-373177.162682</td>\n",
       "      <td>-3.736786e+05</td>\n",
       "    </tr>\n",
       "    <tr>\n",
       "      <th>3</th>\n",
       "      <td>4.0</td>\n",
       "      <td>-386192.440754</td>\n",
       "      <td>-3.868821e+05</td>\n",
       "    </tr>\n",
       "    <tr>\n",
       "      <th>4</th>\n",
       "      <td>5.0</td>\n",
       "      <td>-358810.034831</td>\n",
       "      <td>-3.604825e+05</td>\n",
       "    </tr>\n",
       "    <tr>\n",
       "      <th>5</th>\n",
       "      <td>6.0</td>\n",
       "      <td>-355618.065175</td>\n",
       "      <td>-3.578117e+05</td>\n",
       "    </tr>\n",
       "    <tr>\n",
       "      <th>6</th>\n",
       "      <td>7.0</td>\n",
       "      <td>-335616.677432</td>\n",
       "      <td>-3.380178e+05</td>\n",
       "    </tr>\n",
       "    <tr>\n",
       "      <th>7</th>\n",
       "      <td>8.0</td>\n",
       "      <td>-338702.654446</td>\n",
       "      <td>-3.430534e+05</td>\n",
       "    </tr>\n",
       "    <tr>\n",
       "      <th>8</th>\n",
       "      <td>9.0</td>\n",
       "      <td>-318697.105731</td>\n",
       "      <td>-3.208235e+05</td>\n",
       "    </tr>\n",
       "    <tr>\n",
       "      <th>9</th>\n",
       "      <td>10.0</td>\n",
       "      <td>-315965.278104</td>\n",
       "      <td>-3.389272e+05</td>\n",
       "    </tr>\n",
       "    <tr>\n",
       "      <th>10</th>\n",
       "      <td>11.0</td>\n",
       "      <td>-309987.636224</td>\n",
       "      <td>-3.906987e+05</td>\n",
       "    </tr>\n",
       "    <tr>\n",
       "      <th>11</th>\n",
       "      <td>12.0</td>\n",
       "      <td>-309902.814333</td>\n",
       "      <td>-4.806240e+05</td>\n",
       "    </tr>\n",
       "    <tr>\n",
       "      <th>12</th>\n",
       "      <td>13.0</td>\n",
       "      <td>-308939.062036</td>\n",
       "      <td>-1.116729e+06</td>\n",
       "    </tr>\n",
       "    <tr>\n",
       "      <th>13</th>\n",
       "      <td>14.0</td>\n",
       "      <td>-306955.434743</td>\n",
       "      <td>-4.888335e+06</td>\n",
       "    </tr>\n",
       "    <tr>\n",
       "      <th>14</th>\n",
       "      <td>15.0</td>\n",
       "      <td>-300931.240370</td>\n",
       "      <td>-2.076527e+06</td>\n",
       "    </tr>\n",
       "    <tr>\n",
       "      <th>15</th>\n",
       "      <td>16.0</td>\n",
       "      <td>-282177.398726</td>\n",
       "      <td>-1.238369e+08</td>\n",
       "    </tr>\n",
       "    <tr>\n",
       "      <th>16</th>\n",
       "      <td>17.0</td>\n",
       "      <td>-278692.618724</td>\n",
       "      <td>-4.499218e+08</td>\n",
       "    </tr>\n",
       "    <tr>\n",
       "      <th>17</th>\n",
       "      <td>18.0</td>\n",
       "      <td>-263949.849361</td>\n",
       "      <td>-3.819926e+08</td>\n",
       "    </tr>\n",
       "    <tr>\n",
       "      <th>18</th>\n",
       "      <td>19.0</td>\n",
       "      <td>-258891.045560</td>\n",
       "      <td>-1.667921e+09</td>\n",
       "    </tr>\n",
       "    <tr>\n",
       "      <th>19</th>\n",
       "      <td>20.0</td>\n",
       "      <td>-264974.844169</td>\n",
       "      <td>-3.210581e+10</td>\n",
       "    </tr>\n",
       "  </tbody>\n",
       "</table>\n",
       "</div>"
      ],
      "text/plain": [
       "    poly     loss_train     loss_test\n",
       "0    1.0 -373648.649016 -3.738408e+05\n",
       "1    2.0 -376762.851774 -3.771661e+05\n",
       "2    3.0 -373177.162682 -3.736786e+05\n",
       "3    4.0 -386192.440754 -3.868821e+05\n",
       "4    5.0 -358810.034831 -3.604825e+05\n",
       "5    6.0 -355618.065175 -3.578117e+05\n",
       "6    7.0 -335616.677432 -3.380178e+05\n",
       "7    8.0 -338702.654446 -3.430534e+05\n",
       "8    9.0 -318697.105731 -3.208235e+05\n",
       "9   10.0 -315965.278104 -3.389272e+05\n",
       "10  11.0 -309987.636224 -3.906987e+05\n",
       "11  12.0 -309902.814333 -4.806240e+05\n",
       "12  13.0 -308939.062036 -1.116729e+06\n",
       "13  14.0 -306955.434743 -4.888335e+06\n",
       "14  15.0 -300931.240370 -2.076527e+06\n",
       "15  16.0 -282177.398726 -1.238369e+08\n",
       "16  17.0 -278692.618724 -4.499218e+08\n",
       "17  18.0 -263949.849361 -3.819926e+08\n",
       "18  19.0 -258891.045560 -1.667921e+09\n",
       "19  20.0 -264974.844169 -3.210581e+10"
      ]
     },
     "execution_count": 11,
     "metadata": {},
     "output_type": "execute_result"
    }
   ],
   "source": [
    "poly_loss_df_mae = pd.DataFrame({'poly': [], 'loss_train': [], 'loss_test': []})\n",
    "for p in poly_power:\n",
    "    # генерация признаков с полиномом степени p\n",
    "    polynom = PolynomialFeatures(p)\n",
    "    x_poly = polynom.fit_transform(x)\n",
    "    # оздание обьекта линейной модели обучения. fit_intercept=False для того, что бы модель не добавляла единичный столбец к матрице признаков для свободного коэффициента w\n",
    "    reg = LinearRegression(fit_intercept=False)\n",
    "    # применяем кросс-валидацию для поиска потерь\n",
    "    cv_results = cross_validate(reg_1, x_poly, y, cv=5, return_train_score=True, scoring='neg_mean_absolute_error')\n",
    "    # записываем стредние потери для тестовых и тренировочных датасетов в датафрейм\n",
    "    poly_loss_df_mae = poly_loss_df_mae.append({'poly': p, 'loss_train': np.mean(np.array(cv_results['train_score'])), 'loss_test': np.mean(np.array(cv_results['test_score']))}, ignore_index=True)\n",
    "poly_loss_df_mae"
   ]
  },
  {
   "cell_type": "code",
   "execution_count": 12,
   "metadata": {},
   "outputs": [],
   "source": [
    "fig = go.Figure()\n",
    "fig.add_trace(go.Scatter(x=poly_loss_df_mae['poly'], y=poly_loss_df_mae['loss_train'], mode='lines', name='train_score'))\n",
    "fig.add_trace(go.Scatter(x=poly_loss_df_mae['poly'], y=poly_loss_df_mae['loss_test'], mode='lines', name='test_score'))\n",
    "fig.update_layout(width = 1400, height=1000, yaxis_range=[-400000, -250000])\n",
    "fig.write_html('mae_disel_engine.html')"
   ]
  },
  {
   "cell_type": "markdown",
   "metadata": {},
   "source": [
    "# **ПРОБЕГ И КРУТЯЩИЙ МОМЕНТ. ЛИНЕЙНАЯ МОДЕЛЬ**"
   ]
  },
  {
   "cell_type": "code",
   "execution_count": 13,
   "metadata": {},
   "outputs": [],
   "source": [
    "processed_df = pd.read_csv('processed_df.csv')\n",
    "kmdriven_torque_data = processed_df.loc[:, ['km_driven', 'torque']]"
   ]
  },
  {
   "cell_type": "code",
   "execution_count": null,
   "metadata": {},
   "outputs": [],
   "source": []
  }
 ],
 "metadata": {
  "kernelspec": {
   "display_name": "Python 3",
   "language": "python",
   "name": "python3"
  },
  "language_info": {
   "codemirror_mode": {
    "name": "ipython",
    "version": 3
   },
   "file_extension": ".py",
   "mimetype": "text/x-python",
   "name": "python",
   "nbconvert_exporter": "python",
   "pygments_lexer": "ipython3",
   "version": "3.8.3"
  }
 },
 "nbformat": 4,
 "nbformat_minor": 5
}
