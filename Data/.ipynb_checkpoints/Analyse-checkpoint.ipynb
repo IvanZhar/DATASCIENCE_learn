{
 "cells": [
  {
   "cell_type": "code",
   "execution_count": 18,
   "id": "f2a7fd1f-e622-4ef5-86c2-198a260ef7d6",
   "metadata": {},
   "outputs": [],
   "source": [
    "import numpy as np\n",
    "import pandas as pd\n",
    "from sklearn.linear_model import LinearRegression\n",
    "from sklearn.preprocessing import StandardScaler\n",
    "from sklearn.model_selection import cross_validate\n",
    "import re\n",
    "import plotly.graph_objects as go\n",
    "import plotly.express as px\n",
    "from sklearn.preprocessing import OneHotEncoder\n",
    "from sklearn.preprocessing import StandardScaler, PolynomialFeatures"
   ]
  },
  {
   "cell_type": "code",
   "execution_count": 11,
   "id": "52a99fa0-dca2-4947-8169-04a5d55152e4",
   "metadata": {},
   "outputs": [],
   "source": [
    "processed_df = pd.read_csv('processed_df.csv')"
   ]
  },
  {
   "cell_type": "code",
   "execution_count": 13,
   "id": "b0cb832f-cd44-4e31-95db-9962d2591d73",
   "metadata": {},
   "outputs": [
    {
     "data": {
      "text/plain": [
       "Index(['Maruti', 'Skoda', 'Honda', 'Hyundai', 'Toyota', 'Ford', 'Renault',\n",
       "       'Mahindra', 'Tata', 'Chevrolet', 'Fiat', 'Datsun', 'Jeep',\n",
       "       'Mercedes-Benz', 'Mitsubishi', 'Audi', 'Volkswagen', 'BMW', 'Nissan',\n",
       "       'Lexus', 'Jaguar', 'Land', 'MG', 'Volvo', 'Daewoo', 'Kia', 'Force',\n",
       "       'Ambassador', 'Ashok', 'Isuzu', 'Opel', 'year', 'selling_price',\n",
       "       'km_driven', 'Diesel', 'Individual', 'Dealer', 'Manual', 'First Owner',\n",
       "       'Second Owner', 'Third Owner', 'Fourth & Above Owner', 'milage',\n",
       "       'engine', 'max_power', 'torque', 'RPM_min', 'seats'],\n",
       "      dtype='object')"
      ]
     },
     "execution_count": 13,
     "metadata": {},
     "output_type": "execute_result"
    }
   ],
   "source": [
    "processed_df.columns"
   ]
  },
  {
   "cell_type": "code",
   "execution_count": 21,
   "id": "0a69666b-61ec-4626-971e-476afd30bda4",
   "metadata": {},
   "outputs": [],
   "source": [
    "processed_df = processed_df.loc[:, ['Diesel', 'engine', 'selling_price']].dropna()"
   ]
  },
  {
   "cell_type": "code",
   "execution_count": 26,
   "id": "af40aae3-9bb2-410c-ac12-5ad9588250fa",
   "metadata": {},
   "outputs": [],
   "source": [
    "scaler = StandardScaler()\n",
    "x = scaler.fit_transform(processed_df.loc[:, ['Diesel', 'engine']])\n",
    "y = processed_df['selling_price']"
   ]
  },
  {
   "cell_type": "code",
   "execution_count": 34,
   "id": "a360cdcf-b558-4f59-b1e5-7a9556052f42",
   "metadata": {},
   "outputs": [],
   "source": [
    "poly = PolynomialFeatures(2)\n",
    "x_poly = poly.fit_transform(x)"
   ]
  },
  {
   "cell_type": "code",
   "execution_count": 38,
   "id": "34ee98a2-8ea1-4ddf-a38a-ceabf853f057",
   "metadata": {},
   "outputs": [
    {
     "data": {
      "text/plain": [
       "0.22714408836576006"
      ]
     },
     "execution_count": 38,
     "metadata": {},
     "output_type": "execute_result"
    }
   ],
   "source": [
    "reg_1 = LinearRegression(fit_intercept=False)\n",
    "reg_1.fit(x_poly, y)\n",
    "reg_1.score(x_poly, y)"
   ]
  },
  {
   "cell_type": "markdown",
   "id": "d4aa8c57-5fd5-4b76-b787-c9115e95015f",
   "metadata": {},
   "source": [
    "# **TODO:**"
   ]
  },
  {
   "cell_type": "markdown",
   "id": "9edd8d9d-67c6-41ab-bbd4-38045bfcd073",
   "metadata": {},
   "source": [
    "1. запилить в цикл по степени полинома, можно реализовать вычисление своей функции потерь (smape, mape, mae?)\n",
    "!!! кросс валидация sklearn.model_selection.cross_validate!!!\n",
    "2. пострроить гафики, где х - степень полинома, у - потери (разными метриками)"
   ]
  },
  {
   "cell_type": "code",
   "execution_count": null,
   "id": "f2709b64-7ab8-4b27-98ff-c52d50e7250c",
   "metadata": {},
   "outputs": [],
   "source": []
  }
 ],
 "metadata": {
  "kernelspec": {
   "display_name": "Python 3 (ipykernel)",
   "language": "python",
   "name": "python3"
  },
  "language_info": {
   "codemirror_mode": {
    "name": "ipython",
    "version": 3
   },
   "file_extension": ".py",
   "mimetype": "text/x-python",
   "name": "python",
   "nbconvert_exporter": "python",
   "pygments_lexer": "ipython3",
   "version": "3.9.1"
  }
 },
 "nbformat": 4,
 "nbformat_minor": 5
}
